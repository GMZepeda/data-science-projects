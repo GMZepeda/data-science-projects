{
 "cells": [
  {
   "cell_type": "markdown",
   "id": "af76d341",
   "metadata": {},
   "source": [
    "### Empresas: **Tesla** y **GameStop**\n",
    "\n",
    "**Objetivo**:\n",
    "- Extracción de datos de beneficios (*earnings data*)\n",
    "- Construir un dashboard y comparar el precio de las acciones frente a los beneficios,  para ayudar a decidir en qué acciones invertir, basándose en datos reales\n"
   ]
  },
  {
   "cell_type": "markdown",
   "id": "47584ea7",
   "metadata": {},
   "source": [
    "### ¿Qué son los datos de beneficio?\n",
    "\n",
    "Los **datos de beneficio** muestran cuánto gana una empresa.  \n",
    "Se publican en reportes trimestrales y son clave para entender si una compañía está teniendo buenos resultados financieros.\n",
    "\n",
    "#### Principales elementos:\n",
    "\n",
    "- **Ingresos (Revenue)**: Total de dinero que entra por ventas.\n",
    "- **Beneficio neto (Net Income)**: Ganancia final luego de restar todos los gastos.\n",
    "- **EPS (Earnings Per Share)**: Beneficio por acción; cuánto gana la empresa por cada acción en circulación.\n",
    "\n",
    "#### ¿Por qué son importantes?\n",
    "\n",
    "Permiten analizar si el **precio de una acción refleja realmente las ganancias de la empresa**.\n",
    "\n",
    "> Si una acción es cara pero la empresa gana poco, puede estar sobrevalorada.  \n",
    "> Si una acción es barata pero la empresa gana mucho, puede ser una oportunidad de inversión.\n"
   ]
  },
  {
   "cell_type": "code",
   "execution_count": 1,
   "id": "848f0916",
   "metadata": {},
   "outputs": [
    {
     "name": "stdout",
     "output_type": "stream",
     "text": [
      "Requirement already satisfied: pandas in c:\\users\\germa\\anaconda3\\lib\\site-packages (2.2.2)\n",
      "Requirement already satisfied: numpy>=1.26.0 in c:\\users\\germa\\anaconda3\\lib\\site-packages (from pandas) (1.26.4)\n",
      "Requirement already satisfied: python-dateutil>=2.8.2 in c:\\users\\germa\\anaconda3\\lib\\site-packages (from pandas) (2.9.0.post0)\n",
      "Requirement already satisfied: pytz>=2020.1 in c:\\users\\germa\\anaconda3\\lib\\site-packages (from pandas) (2024.1)\n",
      "Requirement already satisfied: tzdata>=2022.7 in c:\\users\\germa\\anaconda3\\lib\\site-packages (from pandas) (2023.3)\n",
      "Requirement already satisfied: six>=1.5 in c:\\users\\germa\\anaconda3\\lib\\site-packages (from python-dateutil>=2.8.2->pandas) (1.16.0)\n",
      "Requirement already satisfied: requests in c:\\users\\germa\\anaconda3\\lib\\site-packages (2.32.3)\n",
      "Requirement already satisfied: charset-normalizer<4,>=2 in c:\\users\\germa\\anaconda3\\lib\\site-packages (from requests) (2.0.4)\n",
      "Requirement already satisfied: idna<4,>=2.5 in c:\\users\\germa\\anaconda3\\lib\\site-packages (from requests) (2.10)\n",
      "Requirement already satisfied: urllib3<3,>=1.21.1 in c:\\users\\germa\\anaconda3\\lib\\site-packages (from requests) (2.2.2)\n",
      "Requirement already satisfied: certifi>=2017.4.17 in c:\\users\\germa\\anaconda3\\lib\\site-packages (from requests) (2025.1.31)\n",
      "Requirement already satisfied: bs4 in c:\\users\\germa\\anaconda3\\lib\\site-packages (0.0.2)\n",
      "Requirement already satisfied: beautifulsoup4 in c:\\users\\germa\\anaconda3\\lib\\site-packages (from bs4) (4.12.3)\n",
      "Requirement already satisfied: soupsieve>1.2 in c:\\users\\germa\\anaconda3\\lib\\site-packages (from beautifulsoup4->bs4) (2.5)\n",
      "Requirement already satisfied: html5lib in c:\\users\\germa\\anaconda3\\lib\\site-packages (1.1)\n",
      "Requirement already satisfied: six>=1.9 in c:\\users\\germa\\anaconda3\\lib\\site-packages (from html5lib) (1.16.0)\n",
      "Requirement already satisfied: webencodings in c:\\users\\germa\\anaconda3\\lib\\site-packages (from html5lib) (0.5.1)\n",
      "Requirement already satisfied: lxml in c:\\users\\germa\\anaconda3\\lib\\site-packages (5.2.2)\n",
      "Requirement already satisfied: plotly in c:\\users\\germa\\anaconda3\\lib\\site-packages (5.22.0)\n",
      "Requirement already satisfied: tenacity>=6.2.0 in c:\\users\\germa\\anaconda3\\lib\\site-packages (from plotly) (8.2.2)\n",
      "Requirement already satisfied: packaging in c:\\users\\germa\\anaconda3\\lib\\site-packages (from plotly) (23.2)\n",
      "Requirement already satisfied: yfinance in c:\\users\\germa\\anaconda3\\lib\\site-packages (0.2.63)\n",
      "Requirement already satisfied: pandas>=1.3.0 in c:\\users\\germa\\anaconda3\\lib\\site-packages (from yfinance) (2.2.2)\n",
      "Requirement already satisfied: numpy>=1.16.5 in c:\\users\\germa\\anaconda3\\lib\\site-packages (from yfinance) (1.26.4)\n",
      "Requirement already satisfied: requests>=2.31 in c:\\users\\germa\\anaconda3\\lib\\site-packages (from yfinance) (2.32.3)\n",
      "Requirement already satisfied: multitasking>=0.0.7 in c:\\users\\germa\\anaconda3\\lib\\site-packages (from yfinance) (0.0.11)\n",
      "Requirement already satisfied: platformdirs>=2.0.0 in c:\\users\\germa\\anaconda3\\lib\\site-packages (from yfinance) (3.10.0)\n",
      "Requirement already satisfied: pytz>=2022.5 in c:\\users\\germa\\anaconda3\\lib\\site-packages (from yfinance) (2024.1)\n",
      "Requirement already satisfied: frozendict>=2.3.4 in c:\\users\\germa\\anaconda3\\lib\\site-packages (from yfinance) (2.4.2)\n",
      "Requirement already satisfied: peewee>=3.16.2 in c:\\users\\germa\\anaconda3\\lib\\site-packages (from yfinance) (3.18.1)\n",
      "Requirement already satisfied: beautifulsoup4>=4.11.1 in c:\\users\\germa\\anaconda3\\lib\\site-packages (from yfinance) (4.12.3)\n",
      "Requirement already satisfied: curl_cffi>=0.7 in c:\\users\\germa\\anaconda3\\lib\\site-packages (from yfinance) (0.11.3)\n",
      "Requirement already satisfied: protobuf>=3.19.0 in c:\\users\\germa\\anaconda3\\lib\\site-packages (from yfinance) (3.20.3)\n",
      "Requirement already satisfied: websockets>=13.0 in c:\\users\\germa\\anaconda3\\lib\\site-packages (from yfinance) (15.0.1)\n",
      "Requirement already satisfied: soupsieve>1.2 in c:\\users\\germa\\anaconda3\\lib\\site-packages (from beautifulsoup4>=4.11.1->yfinance) (2.5)\n",
      "Requirement already satisfied: cffi>=1.12.0 in c:\\users\\germa\\anaconda3\\lib\\site-packages (from curl_cffi>=0.7->yfinance) (1.16.0)\n",
      "Requirement already satisfied: certifi>=2024.2.2 in c:\\users\\germa\\anaconda3\\lib\\site-packages (from curl_cffi>=0.7->yfinance) (2025.1.31)\n",
      "Requirement already satisfied: python-dateutil>=2.8.2 in c:\\users\\germa\\anaconda3\\lib\\site-packages (from pandas>=1.3.0->yfinance) (2.9.0.post0)\n",
      "Requirement already satisfied: tzdata>=2022.7 in c:\\users\\germa\\anaconda3\\lib\\site-packages (from pandas>=1.3.0->yfinance) (2023.3)\n",
      "Requirement already satisfied: charset-normalizer<4,>=2 in c:\\users\\germa\\anaconda3\\lib\\site-packages (from requests>=2.31->yfinance) (2.0.4)\n",
      "Requirement already satisfied: idna<4,>=2.5 in c:\\users\\germa\\anaconda3\\lib\\site-packages (from requests>=2.31->yfinance) (2.10)\n",
      "Requirement already satisfied: urllib3<3,>=1.21.1 in c:\\users\\germa\\anaconda3\\lib\\site-packages (from requests>=2.31->yfinance) (2.2.2)\n",
      "Requirement already satisfied: pycparser in c:\\users\\germa\\anaconda3\\lib\\site-packages (from cffi>=1.12.0->curl_cffi>=0.7->yfinance) (2.21)\n",
      "Requirement already satisfied: six>=1.5 in c:\\users\\germa\\anaconda3\\lib\\site-packages (from python-dateutil>=2.8.2->pandas>=1.3.0->yfinance) (1.16.0)\n",
      "Collecting dash\n",
      "  Using cached dash-3.1.1-py3-none-any.whl.metadata (10 kB)\n",
      "Requirement already satisfied: Flask<3.2,>=1.0.4 in c:\\users\\germa\\anaconda3\\lib\\site-packages (from dash) (3.0.3)\n",
      "Requirement already satisfied: Werkzeug<3.2 in c:\\users\\germa\\anaconda3\\lib\\site-packages (from dash) (3.0.3)\n",
      "Requirement already satisfied: plotly>=5.0.0 in c:\\users\\germa\\anaconda3\\lib\\site-packages (from dash) (5.22.0)\n",
      "Requirement already satisfied: importlib-metadata in c:\\users\\germa\\anaconda3\\lib\\site-packages (from dash) (7.0.1)\n",
      "Requirement already satisfied: typing-extensions>=4.1.1 in c:\\users\\germa\\anaconda3\\lib\\site-packages (from dash) (4.11.0)\n",
      "Requirement already satisfied: requests in c:\\users\\germa\\anaconda3\\lib\\site-packages (from dash) (2.32.3)\n",
      "Collecting retrying (from dash)\n",
      "  Using cached retrying-1.4.0-py3-none-any.whl.metadata (7.5 kB)\n",
      "Requirement already satisfied: nest-asyncio in c:\\users\\germa\\anaconda3\\lib\\site-packages (from dash) (1.6.0)\n",
      "Requirement already satisfied: setuptools in c:\\users\\germa\\anaconda3\\lib\\site-packages (from dash) (69.5.1)\n",
      "Requirement already satisfied: Jinja2>=3.1.2 in c:\\users\\germa\\anaconda3\\lib\\site-packages (from Flask<3.2,>=1.0.4->dash) (3.1.4)\n",
      "Requirement already satisfied: itsdangerous>=2.1.2 in c:\\users\\germa\\anaconda3\\lib\\site-packages (from Flask<3.2,>=1.0.4->dash) (2.2.0)\n",
      "Requirement already satisfied: click>=8.1.3 in c:\\users\\germa\\anaconda3\\lib\\site-packages (from Flask<3.2,>=1.0.4->dash) (8.1.7)\n",
      "Requirement already satisfied: blinker>=1.6.2 in c:\\users\\germa\\anaconda3\\lib\\site-packages (from Flask<3.2,>=1.0.4->dash) (1.6.2)\n",
      "Requirement already satisfied: tenacity>=6.2.0 in c:\\users\\germa\\anaconda3\\lib\\site-packages (from plotly>=5.0.0->dash) (8.2.2)\n",
      "Requirement already satisfied: packaging in c:\\users\\germa\\anaconda3\\lib\\site-packages (from plotly>=5.0.0->dash) (23.2)\n",
      "Requirement already satisfied: MarkupSafe>=2.1.1 in c:\\users\\germa\\anaconda3\\lib\\site-packages (from Werkzeug<3.2->dash) (2.1.3)\n",
      "Requirement already satisfied: zipp>=0.5 in c:\\users\\germa\\anaconda3\\lib\\site-packages (from importlib-metadata->dash) (3.17.0)\n",
      "Requirement already satisfied: charset-normalizer<4,>=2 in c:\\users\\germa\\anaconda3\\lib\\site-packages (from requests->dash) (2.0.4)\n",
      "Requirement already satisfied: idna<4,>=2.5 in c:\\users\\germa\\anaconda3\\lib\\site-packages (from requests->dash) (2.10)\n",
      "Requirement already satisfied: urllib3<3,>=1.21.1 in c:\\users\\germa\\anaconda3\\lib\\site-packages (from requests->dash) (2.2.2)\n",
      "Requirement already satisfied: certifi>=2017.4.17 in c:\\users\\germa\\anaconda3\\lib\\site-packages (from requests->dash) (2025.1.31)\n",
      "Requirement already satisfied: colorama in c:\\users\\germa\\anaconda3\\lib\\site-packages (from click>=8.1.3->Flask<3.2,>=1.0.4->dash) (0.4.6)\n",
      "Using cached dash-3.1.1-py3-none-any.whl (7.9 MB)\n",
      "Using cached retrying-1.4.0-py3-none-any.whl (11 kB)\n",
      "Installing collected packages: retrying, dash\n",
      "Successfully installed dash-3.1.1 retrying-1.4.0\n",
      "Requirement already satisfied: nbformat in c:\\users\\germa\\anaconda3\\lib\\site-packages (5.9.2)\n",
      "Requirement already satisfied: fastjsonschema in c:\\users\\germa\\anaconda3\\lib\\site-packages (from nbformat) (2.16.2)\n",
      "Requirement already satisfied: jsonschema>=2.6 in c:\\users\\germa\\anaconda3\\lib\\site-packages (from nbformat) (4.19.2)\n",
      "Requirement already satisfied: jupyter-core in c:\\users\\germa\\anaconda3\\lib\\site-packages (from nbformat) (5.7.2)\n",
      "Requirement already satisfied: traitlets>=5.1 in c:\\users\\germa\\anaconda3\\lib\\site-packages (from nbformat) (5.14.3)\n",
      "Requirement already satisfied: attrs>=22.2.0 in c:\\users\\germa\\anaconda3\\lib\\site-packages (from jsonschema>=2.6->nbformat) (23.1.0)\n",
      "Requirement already satisfied: jsonschema-specifications>=2023.03.6 in c:\\users\\germa\\anaconda3\\lib\\site-packages (from jsonschema>=2.6->nbformat) (2023.7.1)\n",
      "Requirement already satisfied: referencing>=0.28.4 in c:\\users\\germa\\anaconda3\\lib\\site-packages (from jsonschema>=2.6->nbformat) (0.30.2)\n",
      "Requirement already satisfied: rpds-py>=0.7.1 in c:\\users\\germa\\anaconda3\\lib\\site-packages (from jsonschema>=2.6->nbformat) (0.10.6)\n",
      "Requirement already satisfied: platformdirs>=2.5 in c:\\users\\germa\\anaconda3\\lib\\site-packages (from jupyter-core->nbformat) (3.10.0)\n",
      "Requirement already satisfied: pywin32>=300 in c:\\users\\germa\\anaconda3\\lib\\site-packages (from jupyter-core->nbformat) (305.1)\n"
     ]
    }
   ],
   "source": [
    "!pip install pandas\n",
    "!pip install requests\n",
    "!pip install bs4\n",
    "!pip install html5lib\n",
    "!pip install lxml\n",
    "!pip install plotly\n",
    "!pip install yfinance\n",
    "!pip install dash\n",
    "!pip install nbformat \n"
   ]
  },
  {
   "cell_type": "code",
   "execution_count": 2,
   "id": "f693d67e",
   "metadata": {},
   "outputs": [
    {
     "data": {
      "text/plain": [
       "'C:\\\\PROYECTOS\\\\GitHub\\\\Earnings Data'"
      ]
     },
     "execution_count": 2,
     "metadata": {},
     "output_type": "execute_result"
    }
   ],
   "source": [
    "import os\n",
    "path = r'C:\\PROYECTOS\\GitHub\\Earnings Data'\n",
    "os.chdir(path)\n",
    "os.getcwd()"
   ]
  },
  {
   "cell_type": "code",
   "execution_count": 3,
   "id": "077a5f78",
   "metadata": {},
   "outputs": [],
   "source": [
    "import warnings\n",
    "# ignorar todas la advertencias\n",
    "warnings.filterwarnings(\"ignore\", category=FutureWarning)"
   ]
  },
  {
   "cell_type": "code",
   "execution_count": 4,
   "id": "650be690",
   "metadata": {},
   "outputs": [],
   "source": [
    "import pandas as pd\n",
    "import requests\n",
    "from bs4 import BeautifulSoup\n",
    "import yfinance as yf\n",
    "import plotly.graph_objects as go\n",
    "import plotly.express as px \n",
    "import dash\n",
    "from dash import dcc, html"
   ]
  },
  {
   "cell_type": "code",
   "execution_count": 5,
   "id": "0f366638",
   "metadata": {},
   "outputs": [],
   "source": [
    "tesla = yf.Ticker(\"TSLA\")\n",
    "gamestop = yf.Ticker(\"GME\")"
   ]
  },
  {
   "cell_type": "code",
   "execution_count": 7,
   "id": "8b61df26",
   "metadata": {},
   "outputs": [],
   "source": [
    "data_tesla = tesla.history(period=\"3mo\")\n",
    "data_tesla.reset_index(inplace=True)\n",
    "data_gamestop = gamestop.history(period=\"3mo\")\n",
    "data_gamestop.reset_index(inplace=True)"
   ]
  },
  {
   "cell_type": "code",
   "execution_count": 8,
   "id": "9b696fbf",
   "metadata": {},
   "outputs": [
    {
     "name": "stdout",
     "output_type": "stream",
     "text": [
      "                       Date        Open        High         Low       Close  \\\n",
      "0 2025-04-17 00:00:00-04:00  243.470001  244.339996  237.679993  241.369995   \n",
      "1 2025-04-21 00:00:00-04:00  230.259995  232.210007  222.789993  227.500000   \n",
      "2 2025-04-22 00:00:00-04:00  230.960007  242.789993  229.850006  237.970001   \n",
      "3 2025-04-23 00:00:00-04:00  254.860001  259.450012  244.429993  250.740005   \n",
      "4 2025-04-24 00:00:00-04:00  250.500000  259.540009  249.199997  259.510010   \n",
      "\n",
      "      Volume  Dividends  Stock Splits  \n",
      "0   83404800        0.0           0.0  \n",
      "1   97768000        0.0           0.0  \n",
      "2  120858500        0.0           0.0  \n",
      "3  150381900        0.0           0.0  \n",
      "4   94464200        0.0           0.0  \n",
      "                       Date       Open       High        Low      Close  \\\n",
      "0 2025-04-17 00:00:00-04:00  26.209999  27.190001  26.170000  26.780001   \n",
      "1 2025-04-21 00:00:00-04:00  26.709999  27.040001  25.790001  26.770000   \n",
      "2 2025-04-22 00:00:00-04:00  26.990000  27.940001  26.879999  27.799999   \n",
      "3 2025-04-23 00:00:00-04:00  28.200001  28.250000  26.959999  27.120001   \n",
      "4 2025-04-24 00:00:00-04:00  27.100000  27.580000  26.840000  27.080000   \n",
      "\n",
      "     Volume  Dividends  Stock Splits  \n",
      "0   7360800        0.0           0.0  \n",
      "1   7690000        0.0           0.0  \n",
      "2  11065900        0.0           0.0  \n",
      "3   8862700        0.0           0.0  \n",
      "4   6212100        0.0           0.0  \n"
     ]
    }
   ],
   "source": [
    "print(data_tesla.head())\n",
    "print(data_gamestop.head())"
   ]
  },
  {
   "cell_type": "code",
   "execution_count": 9,
   "id": "58e9e36f",
   "metadata": {},
   "outputs": [
    {
     "name": "stdout",
     "output_type": "stream",
     "text": [
      "EPS Tesla: 1.74\n",
      "EPS GameStop: 0.53\n"
     ]
    }
   ],
   "source": [
    "# verificar si los datos incluyen el EPS (earnings per share)   \n",
    "\n",
    "print(f\"EPS Tesla: {tesla.info[\"trailingEps\"]}\")\n",
    "print(f\"EPS GameStop: {gamestop.info[\"trailingEps\"]}\")"
   ]
  },
  {
   "cell_type": "code",
   "execution_count": 10,
   "id": "d79e99f5",
   "metadata": {},
   "outputs": [],
   "source": [
    "eps_tesla = tesla.info[\"trailingEps\"]\n",
    "eps_gamestop = gamestop.info[\"trailingEps\"]"
   ]
  },
  {
   "cell_type": "code",
   "execution_count": 9,
   "id": "445ac87d",
   "metadata": {},
   "outputs": [
    {
     "name": "stdout",
     "output_type": "stream",
     "text": [
      "                        Date        Open        High         Low       Close  \\\n",
      "57 2025-06-27 00:00:00-04:00  324.510010  329.339996  317.500000  323.630005   \n",
      "58 2025-06-30 00:00:00-04:00  319.899994  325.579987  316.600006  317.660004   \n",
      "59 2025-07-01 00:00:00-04:00  298.459991  305.890015  293.209991  300.709991   \n",
      "60 2025-07-02 00:00:00-04:00  312.630005  316.829987  303.820007  315.649994   \n",
      "61 2025-07-03 00:00:00-04:00  317.989990  318.450012  312.760010  315.350006   \n",
      "\n",
      "       Volume  Dividends  Stock Splits  \n",
      "57   89067000        0.0           0.0  \n",
      "58   76695100        0.0           0.0  \n",
      "59  145085700        0.0           0.0  \n",
      "60  119191500        0.0           0.0  \n",
      "61   58042300        0.0           0.0  \n",
      "                        Date       Open   High        Low      Close  \\\n",
      "57 2025-06-27 00:00:00-04:00  23.990000  24.26  23.459999  23.590000   \n",
      "58 2025-06-30 00:00:00-04:00  23.639999  24.40  23.540001  24.389999   \n",
      "59 2025-07-01 00:00:00-04:00  24.150000  24.50  23.680000  23.680000   \n",
      "60 2025-07-02 00:00:00-04:00  23.900000  24.10  23.750000  23.950001   \n",
      "61 2025-07-03 00:00:00-04:00  23.850000  24.16  23.490000  23.590000   \n",
      "\n",
      "      Volume  Dividends  Stock Splits  \n",
      "57  11638200        0.0           0.0  \n",
      "58  10439300        0.0           0.0  \n",
      "59   8308000        0.0           0.0  \n",
      "60   6428600        0.0           0.0  \n",
      "61   5566300        0.0           0.0  \n"
     ]
    }
   ],
   "source": [
    "print(data_tesla.tail())\n",
    "print(data_gamestop.tail())"
   ]
  },
  {
   "cell_type": "code",
   "execution_count": 12,
   "id": "ed8a37d9",
   "metadata": {},
   "outputs": [],
   "source": [
    "# obtener el precio más reciente de las acciones de Tesla y GameStop:\n",
    "\n",
    "precio_actual_tesla = data_tesla[\"Close\"].iloc[-1] # último valor de la columna \"Close\"\n",
    "precio_actual_gamestop = data_gamestop[\"Close\"].iloc[-1] # último valor de la columna \"Close\""
   ]
  },
  {
   "cell_type": "code",
   "execution_count": 13,
   "id": "c38aa91c",
   "metadata": {},
   "outputs": [
    {
     "name": "stdout",
     "output_type": "stream",
     "text": [
      "318.8900146484375\n",
      "23.58989906311035\n"
     ]
    }
   ],
   "source": [
    "print(precio_actual_tesla)\n",
    "print(precio_actual_gamestop)"
   ]
  },
  {
   "cell_type": "markdown",
   "id": "cd00320d",
   "metadata": {},
   "source": [
    "**P/E ratio** (Price-to-Earnings ratio) es el indicador que compara el **precio de una acción** con su **beneficio por acción** (EPS).  \n",
    "Se calcula así:\n",
    "\n",
    "**P/E = Precio actual de la acción / EPS**\n"
   ]
  },
  {
   "cell_type": "code",
   "execution_count": 14,
   "id": "75b80c08",
   "metadata": {},
   "outputs": [
    {
     "name": "stdout",
     "output_type": "stream",
     "text": [
      "P/E ratio Tesla: 183.270123361171\n",
      "P/E ratio GameStop: 44.50924351530255\n"
     ]
    }
   ],
   "source": [
    "pe_ratio_tesla = precio_actual_tesla / eps_tesla\n",
    "pe_ratio_gamestop = precio_actual_gamestop / eps_gamestop\n",
    "print(\"P/E ratio Tesla:\", pe_ratio_tesla)\n",
    "print(\"P/E ratio GameStop:\",pe_ratio_gamestop)"
   ]
  },
  {
   "cell_type": "code",
   "execution_count": 15,
   "id": "5e9abbc4",
   "metadata": {},
   "outputs": [
    {
     "name": "stdout",
     "output_type": "stream",
     "text": [
      "    Empresa  Precio actual   EPS   P/E ratio\n",
      "0     Tesla     318.890015  1.74  183.270123\n",
      "1  GameStop      23.589899  0.53   44.509244\n"
     ]
    }
   ],
   "source": [
    "# Se crea un diccionario con los datos\n",
    "\n",
    "datos_empresas = {\n",
    "    \"Empresa\": [\"Tesla\", \"GameStop\"],\n",
    "    \"Precio actual\": [precio_actual_tesla, precio_actual_gamestop],\n",
    "    \"EPS\": [eps_tesla, eps_gamestop],\n",
    "    \"P/E ratio\": [pe_ratio_tesla,pe_ratio_gamestop]\n",
    "}\n",
    "\n",
    "# Se convierte el diccionario en un DataFrame\n",
    "\n",
    "tabla_resumen = pd.DataFrame(datos_empresas)\n",
    "\n",
    "print(tabla_resumen)"
   ]
  },
  {
   "cell_type": "markdown",
   "id": "2f65fae0-19a4-47ff-9f4c-7d6605a502e8",
   "metadata": {},
   "source": [
    "# Precio Actual"
   ]
  },
  {
   "cell_type": "code",
   "execution_count": 35,
   "id": "41a06965-91ff-446e-87dd-75c527ba5713",
   "metadata": {},
   "outputs": [
    {
     "data": {
      "image/png": "[encoded data removed]",
      "text/plain": [
       "<Figure size 600x400 with 1 Axes>"
      ]
     },
     "metadata": {},
     "output_type": "display_data"
    }
   ],
   "source": [
    "import matplotlib.pyplot as plt\n",
    "\n",
    "empresas = tabla_resumen[\"Empresa\"]\n",
    "precios = tabla_resumen[\"Precio actual\"]\n",
    "\n",
    "plt.figure(figsize=(6,4))\n",
    "plt.bar(empresas, precios, color=[\"#1f77b4\", \"#ff7f0e\"])\n",
    "plt.title(\"Precio actual por empresa\")\n",
    "plt.ylabel(\"Precio (USD)\")\n",
    "plt.xlabel(\"Empresa\")\n",
    "plt.grid(axis='y', linestyle='--', alpha=0.7)\n",
    "plt.tight_layout()\n",
    "plt.show()"
   ]
  },
  {
   "cell_type": "code",
   "execution_count": 40,
   "id": "4f5f92b3-ded1-402d-a72d-06a1bad1c311",
   "metadata": {},
   "outputs": [],
   "source": [
    "# utilizando plotly.express.bar\n",
    "import plotly.express as px\n",
    "\n",
    "fig = px.bar(tabla_resumen, \n",
    "             x=\"Empresa\", \n",
    "             y=\"Precio actual\",\n",
    "             title=\"Precio actual por empresa\",\n",
    "             labels={\"Precio actual\": \"Precio (USD)\"},\n",
    "             text=tabla_resumen[\"Precio actual\"].round(2),\n",
    "             color=\"Empresa\",  # para usar colores distintos\n",
    "             color_discrete_sequence=[\"#3366CC\", \"#FF9900\"])  # colores suaves\n",
    "\n",
    "fig.update_traces(\n",
    "    texttemplate='$%{text:.2f}', \n",
    "    textposition='outside',\n",
    "    marker_line_width=1.5,\n",
    "    marker_line_color='black'\n",
    ")\n",
    "\n",
    "fig.update_layout(\n",
    "    plot_bgcolor='white',\n",
    "    paper_bgcolor='white',\n",
    "    font=dict(size=14),\n",
    "    yaxis=dict(gridcolor='lightgrey', title='Precio (USD)'),\n",
    "    xaxis=dict(title='Empresa'),\n",
    "    title=dict(x=0.5, font=dict(size=18))\n",
    ")\n",
    "\n",
    "fig.show()\n"
   ]
  },
  {
   "cell_type": "markdown",
   "id": "e41dce1a-edaa-4a03-9cc2-7aae56e814b3",
   "metadata": {},
   "source": [
    "# Gráfico de EPS"
   ]
  },
  {
   "cell_type": "code",
   "execution_count": 36,
   "id": "24aae78b-94ab-4893-9b73-459281d38753",
   "metadata": {},
   "outputs": [
    {
     "data": {
      "image/png": "[encoded data removed]",
      "text/plain": [
       "<Figure size 600x400 with 1 Axes>"
      ]
     },
     "metadata": {},
     "output_type": "display_data"
    }
   ],
   "source": [
    "eps = tabla_resumen[\"EPS\"]\n",
    "\n",
    "plt.figure(figsize=(6,4))\n",
    "plt.bar(empresas, eps, color=[\"#1f77b4\", \"#ff7f0e\"])\n",
    "plt.title(\"Earnings per Share (EPS)\")\n",
    "plt.ylabel(\"EPS\")\n",
    "plt.xlabel(\"Empresa\")\n",
    "plt.grid(axis='y', linestyle='--', alpha=0.7)\n",
    "plt.tight_layout()\n",
    "plt.show()\n"
   ]
  },
  {
   "cell_type": "code",
   "execution_count": 41,
   "id": "2b11d090-2b3d-48cb-a104-0b05d0cde605",
   "metadata": {},
   "outputs": [],
   "source": [
    "# utilizando plotly.express.bar\n",
    "fig = px.bar(tabla_resumen, \n",
    "             x=\"Empresa\", \n",
    "             y=\"EPS\",\n",
    "             title=\"Earnings per Share (EPS)\",\n",
    "             labels={\"EPS\": \"EPS\"},\n",
    "             text=tabla_resumen[\"EPS\"].round(2),\n",
    "             color=\"Empresa\",\n",
    "             color_discrete_sequence=[\"#3366CC\", \"#FF9900\"])\n",
    "\n",
    "fig.update_traces(\n",
    "    texttemplate='%{text:.2f}', \n",
    "    textposition='outside',\n",
    "    marker_line_width=1.5,\n",
    "    marker_line_color='black'\n",
    ")\n",
    "\n",
    "fig.update_layout(\n",
    "    plot_bgcolor='white',\n",
    "    paper_bgcolor='white',\n",
    "    font=dict(size=14),\n",
    "    yaxis=dict(gridcolor='lightgrey', title='EPS'),\n",
    "    xaxis=dict(title='Empresa'),\n",
    "    title=dict(x=0.5, font=dict(size=18))\n",
    ")\n",
    "\n",
    "fig.show()\n"
   ]
  },
  {
   "cell_type": "markdown",
   "id": "c9cf696f-ed8c-4970-bd48-25da128817bf",
   "metadata": {},
   "source": [
    "# Gráfico de P/E ratio"
   ]
  },
  {
   "cell_type": "code",
   "execution_count": 37,
   "id": "aa6c6d3e-209b-4fdb-83c2-18079c247c00",
   "metadata": {},
   "outputs": [
    {
     "data": {
      "image/png": "[encoded data removed]",
      "text/plain": [
       "<Figure size 600x400 with 1 Axes>"
      ]
     },
     "metadata": {},
     "output_type": "display_data"
    }
   ],
   "source": [
    "pe_ratio = tabla_resumen[\"P/E ratio\"]\n",
    "\n",
    "plt.figure(figsize=(6,4))\n",
    "plt.bar(empresas, pe_ratio, color=[\"#1f77b4\", \"#ff7f0e\"])\n",
    "plt.title(\"P/E Ratio por empresa\")\n",
    "plt.ylabel(\"P/E Ratio\")\n",
    "plt.xlabel(\"Empresa\")\n",
    "plt.grid(axis='y', linestyle='--', alpha=0.7)\n",
    "plt.tight_layout()\n",
    "plt.show()\n"
   ]
  },
  {
   "cell_type": "code",
   "execution_count": 42,
   "id": "bf1d74f8-7834-4030-a66e-bdc48f2125cb",
   "metadata": {},
   "outputs": [],
   "source": [
    "# utilizando plotly.express.bar\n",
    "fig = px.bar(tabla_resumen, \n",
    "             x=\"Empresa\", \n",
    "             y=\"P/E ratio\",\n",
    "             title=\"P/E Ratio por empresa\",\n",
    "             labels={\"P/E ratio\": \"P/E\"},\n",
    "             text=tabla_resumen[\"P/E ratio\"].round(2),\n",
    "             color=\"Empresa\",\n",
    "             color_discrete_sequence=[\"#3366CC\", \"#FF9900\"])\n",
    "\n",
    "fig.update_traces(\n",
    "    texttemplate='%{text:.2f}', \n",
    "    textposition='outside',\n",
    "    marker_line_width=1.5,\n",
    "    marker_line_color='black'\n",
    ")\n",
    "\n",
    "fig.update_layout(\n",
    "    plot_bgcolor='white',\n",
    "    paper_bgcolor='white',\n",
    "    font=dict(size=14),\n",
    "    yaxis=dict(gridcolor='lightgrey', title='P/E Ratio'),\n",
    "    xaxis=dict(title='Empresa'),\n",
    "    title=dict(x=0.5, font=dict(size=18))\n",
    ")\n",
    "\n",
    "fig.show()\n"
   ]
  },
  {
   "cell_type": "markdown",
   "id": "364a55d7-811e-4139-9155-08bf7648f0ac",
   "metadata": {},
   "source": [
    "## Comparativa de indicadores financieros usando Dash\r\n"
   ]
  },
  {
   "cell_type": "code",
   "execution_count": 48,
   "id": "c7768ad9-d2e6-488c-961b-0a0fa0653842",
   "metadata": {},
   "outputs": [
    {
     "data": {
      "text/html": [
       "\n",
       "        <iframe\n",
       "            width=\"100%\"\n",
       "            height=\"650\"\n",
       "            src=\"http://127.0.0.1:8050/\"\n",
       "            frameborder=\"0\"\n",
       "            allowfullscreen\n",
       "            \n",
       "        ></iframe>\n",
       "        "
      ],
      "text/plain": [
       "<IPython.lib.display.IFrame at 0x2a0a794fd70>"
      ]
     },
     "metadata": {},
     "output_type": "display_data"
    }
   ],
   "source": [
    "from dash import Dash, dcc, html\n",
    "import plotly.express as px\n",
    "\n",
    "# Crear gráficos\n",
    "fig_precio = px.bar(tabla_resumen, x=\"Empresa\", y=\"Precio actual\",\n",
    "                    title=\"Precio actual por empresa\", text=\"Precio actual\",\n",
    "                    color=\"Empresa\", color_discrete_sequence=[\"#636EFA\", \"#EF553B\"])\n",
    "fig_precio.update_traces(texttemplate='%{text:.2f}', textposition='outside', marker_line_color='black', marker_line_width=1.5)\n",
    "fig_precio.update_layout(plot_bgcolor='white', yaxis=dict(gridcolor='lightgray'), font=dict(size=14))\n",
    "\n",
    "fig_eps = px.bar(tabla_resumen, x=\"Empresa\", y=\"EPS\",\n",
    "                 title=\"Earnings per Share (EPS)\", text=\"EPS\",\n",
    "                 color=\"Empresa\", color_discrete_sequence=[\"#3366CC\", \"#FF9900\"])\n",
    "fig_eps.update_traces(texttemplate='%{text:.2f}', textposition='outside', marker_line_color='black', marker_line_width=1.5)\n",
    "fig_eps.update_layout(plot_bgcolor='white', yaxis=dict(gridcolor='lightgray'), font=dict(size=14))\n",
    "\n",
    "fig_pe = px.bar(tabla_resumen, x=\"Empresa\", y=\"P/E ratio\",\n",
    "                title=\"P/E Ratio por empresa\", text=\"P/E ratio\",\n",
    "                color=\"Empresa\", color_discrete_sequence=[\"#009688\", \"#FFC107\"])\n",
    "fig_pe.update_traces(texttemplate='%{text:.2f}', textposition='outside', marker_line_color='black', marker_line_width=1.5)\n",
    "fig_pe.update_layout(plot_bgcolor='white', yaxis=dict(gridcolor='lightgray'), font=dict(size=14))\n",
    "\n",
    "# Crear y correr el dashboard\n",
    "app = Dash(__name__)\n",
    "app.layout = html.Div([\n",
    "    html.H1(\"Dashboard: Tesla vs GameStop\", style={'textAlign': 'center'}),\n",
    "    dcc.Graph(figure=fig_precio),\n",
    "    dcc.Graph(figure=fig_eps),\n",
    "    dcc.Graph(figure=fig_pe)\n",
    "])\n",
    "\n",
    "app.run(debug=True)\n"
   ]
  },
  {
   "cell_type": "code",
   "execution_count": null,
   "id": "ee96e3c3-fd85-44eb-bce2-825487e06ca0",
   "metadata": {},
   "outputs": [],
   "source": []
  }
 ],
 "metadata": {
  "kernelspec": {
   "display_name": "Python 3 (ipykernel)",
   "language": "python",
   "name": "python3"
  },
  "language_info": {
   "codemirror_mode": {
    "name": "ipython",
    "version": 3
   },
   "file_extension": ".py",
   "mimetype": "text/x-python",
   "name": "python",
   "nbconvert_exporter": "python",
   "pygments_lexer": "ipython3",
   "version": "3.12.3"
  }
 },
 "nbformat": 4,
 "nbformat_minor": 5
}
