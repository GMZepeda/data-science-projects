{
 "cells": [
  {
   "cell_type": "markdown",
   "id": "f2022d3d",
   "metadata": {},
   "source": [
    "### Extracción de Datos Bursátiles utilizando Web Scraping\n",
    "\n",
    "Contenidos:\n",
    "\n",
    "- Extracción de datos utilizando BeautifulSoup\n",
    "\n",
    "- Descarga de página web usando la biblioteca Requests\n",
    "\n",
    "- Analisis HTML de una página web utilizando BeautifulSoup\n",
    "\n",
    "- Extracción de datos y construcción de un DataFrame\n",
    "\n",
    "- Extracción de datos utilizando pandas"
   ]
  },
  {
   "cell_type": "code",
   "execution_count": 1,
   "id": "db3efd94",
   "metadata": {},
   "outputs": [
    {
     "name": "stdout",
     "output_type": "stream",
     "text": [
      "Requirement already satisfied: pandas in c:\\users\\germa\\appdata\\local\\programs\\python\\python313\\lib\\site-packages (2.2.3)\n",
      "Requirement already satisfied: numpy>=1.26.0 in c:\\users\\germa\\appdata\\local\\programs\\python\\python313\\lib\\site-packages (from pandas) (2.2.2)\n",
      "Requirement already satisfied: python-dateutil>=2.8.2 in c:\\users\\germa\\appdata\\roaming\\python\\python313\\site-packages (from pandas) (2.9.0.post0)\n",
      "Requirement already satisfied: pytz>=2020.1 in c:\\users\\germa\\appdata\\local\\programs\\python\\python313\\lib\\site-packages (from pandas) (2025.1)\n",
      "Requirement already satisfied: tzdata>=2022.7 in c:\\users\\germa\\appdata\\local\\programs\\python\\python313\\lib\\site-packages (from pandas) (2025.1)\n",
      "Requirement already satisfied: six>=1.5 in c:\\users\\germa\\appdata\\roaming\\python\\python313\\site-packages (from python-dateutil>=2.8.2->pandas) (1.17.0)\n"
     ]
    },
    {
     "name": "stderr",
     "output_type": "stream",
     "text": [
      "\n",
      "[notice] A new release of pip is available: 24.3.1 -> 25.1.1\n",
      "[notice] To update, run: python.exe -m pip install --upgrade pip\n"
     ]
    },
    {
     "name": "stdout",
     "output_type": "stream",
     "text": [
      "Requirement already satisfied: requests in c:\\users\\germa\\appdata\\local\\programs\\python\\python313\\lib\\site-packages (2.32.4)\n",
      "Requirement already satisfied: charset_normalizer<4,>=2 in c:\\users\\germa\\appdata\\local\\programs\\python\\python313\\lib\\site-packages (from requests) (3.4.2)\n",
      "Requirement already satisfied: idna<4,>=2.5 in c:\\users\\germa\\appdata\\local\\programs\\python\\python313\\lib\\site-packages (from requests) (3.10)\n",
      "Requirement already satisfied: urllib3<3,>=1.21.1 in c:\\users\\germa\\appdata\\local\\programs\\python\\python313\\lib\\site-packages (from requests) (2.4.0)\n",
      "Requirement already satisfied: certifi>=2017.4.17 in c:\\users\\germa\\appdata\\local\\programs\\python\\python313\\lib\\site-packages (from requests) (2025.6.15)\n"
     ]
    },
    {
     "name": "stderr",
     "output_type": "stream",
     "text": [
      "\n",
      "[notice] A new release of pip is available: 24.3.1 -> 25.1.1\n",
      "[notice] To update, run: python.exe -m pip install --upgrade pip\n"
     ]
    },
    {
     "name": "stdout",
     "output_type": "stream",
     "text": [
      "Requirement already satisfied: bs4 in c:\\users\\germa\\appdata\\local\\programs\\python\\python313\\lib\\site-packages (0.0.2)\n",
      "Requirement already satisfied: beautifulsoup4 in c:\\users\\germa\\appdata\\local\\programs\\python\\python313\\lib\\site-packages (from bs4) (4.13.4)\n",
      "Requirement already satisfied: soupsieve>1.2 in c:\\users\\germa\\appdata\\local\\programs\\python\\python313\\lib\\site-packages (from beautifulsoup4->bs4) (2.7)\n",
      "Requirement already satisfied: typing-extensions>=4.0.0 in c:\\users\\germa\\appdata\\local\\programs\\python\\python313\\lib\\site-packages (from beautifulsoup4->bs4) (4.14.0)\n"
     ]
    },
    {
     "name": "stderr",
     "output_type": "stream",
     "text": [
      "\n",
      "[notice] A new release of pip is available: 24.3.1 -> 25.1.1\n",
      "[notice] To update, run: python.exe -m pip install --upgrade pip\n"
     ]
    },
    {
     "name": "stdout",
     "output_type": "stream",
     "text": [
      "Requirement already satisfied: html5lib in c:\\users\\germa\\appdata\\local\\programs\\python\\python313\\lib\\site-packages (1.1)"
     ]
    },
    {
     "name": "stderr",
     "output_type": "stream",
     "text": [
      "\n",
      "[notice] A new release of pip is available: 24.3.1 -> 25.1.1\n",
      "[notice] To update, run: python.exe -m pip install --upgrade pip\n"
     ]
    },
    {
     "name": "stdout",
     "output_type": "stream",
     "text": [
      "\n",
      "Requirement already satisfied: six>=1.9 in c:\\users\\germa\\appdata\\roaming\\python\\python313\\site-packages (from html5lib) (1.17.0)\n",
      "Requirement already satisfied: webencodings in c:\\users\\germa\\appdata\\local\\programs\\python\\python313\\lib\\site-packages (from html5lib) (0.5.1)\n",
      "Requirement already satisfied: lxml in c:\\users\\germa\\appdata\\local\\programs\\python\\python313\\lib\\site-packages (6.0.0)\n"
     ]
    },
    {
     "name": "stderr",
     "output_type": "stream",
     "text": [
      "\n",
      "[notice] A new release of pip is available: 24.3.1 -> 25.1.1\n",
      "[notice] To update, run: python.exe -m pip install --upgrade pip\n",
      "ERROR: Could not find a version that satisfies the requirement ploty (from versions: none)\n",
      "\n",
      "[notice] A new release of pip is available: 24.3.1 -> 25.1.1\n",
      "[notice] To update, run: python.exe -m pip install --upgrade pip\n",
      "ERROR: No matching distribution found for ploty\n"
     ]
    }
   ],
   "source": [
    "!pip install pandas\n",
    "!pip install requests\n",
    "!pip install bs4\n",
    "!pip install html5lib\n",
    "!pip install lxml\n",
    "!pip install ploty"
   ]
  },
  {
   "cell_type": "code",
   "execution_count": 2,
   "id": "f3f8e4c9",
   "metadata": {},
   "outputs": [
    {
     "data": {
      "text/plain": [
       "'C:\\\\PROYECTOS\\\\GitHub\\\\Web Scraping Datos Bursatiles'"
      ]
     },
     "execution_count": 2,
     "metadata": {},
     "output_type": "execute_result"
    }
   ],
   "source": [
    "import os\n",
    "path = r'C:\\PROYECTOS\\GitHub\\Web Scraping Datos Bursatiles'\n",
    "os.chdir(path)\n",
    "os.getcwd()"
   ]
  },
  {
   "cell_type": "code",
   "execution_count": 3,
   "id": "65c751ac",
   "metadata": {},
   "outputs": [],
   "source": [
    "import pandas as pd\n",
    "import requests\n",
    "from bs4 import BeautifulSoup"
   ]
  },
  {
   "cell_type": "code",
   "execution_count": 4,
   "id": "8c2a5f3d",
   "metadata": {},
   "outputs": [],
   "source": [
    "import warnings\n",
    "# ignorar todas la advertencias\n",
    "warnings.filterwarnings(\"ignore\", category=FutureWarning)"
   ]
  },
  {
   "cell_type": "markdown",
   "id": "b1f12a61",
   "metadata": {},
   "source": [
    "En la siguiente página web tenemos una tabla con las siguientes columnas:\n",
    "Date, Open, High, Low, Close, Adj Close, Volume,\n",
    "de las cuales debemos extraer las siguientes columnas:\n",
    "\n",
    "Date (Fecha)\n",
    "\n",
    "Open (Apertura)\n",
    "\n",
    "High (Máximo)\n",
    "\n",
    "Low (Mínimo)\n",
    "\n",
    "Close (Cierre)\n",
    "\n",
    "Volume (Volumen)\n",
    "\n"
   ]
  },
  {
   "cell_type": "code",
   "execution_count": 5,
   "id": "006c60da",
   "metadata": {},
   "outputs": [],
   "source": [
    "url = \"https://cf-courses-data.s3.us.cloud-object-storage.appdomain.cloud/IBMDeveloperSkillsNetwork-PY0220EN-SkillsNetwork/labs/project/netflix_data_webpage.html\""
   ]
  },
  {
   "cell_type": "markdown",
   "id": "15259517",
   "metadata": {},
   "source": [
    "#### Paso 1: Enviar una solicitud HTTP a la página web"
   ]
  },
  {
   "cell_type": "markdown",
   "id": "f96b55c0",
   "metadata": {},
   "source": [
    "El método requests.get() recibe una URL como primer argumento, la cual especifica la ubicación del recurso que se desea obtener. En este caso, se pasa el valor de la variable url como argumento al método requests.get(), ya que se almacenará la URL de una página web en esa variable.\n",
    "\n",
    "Se utiliza el método .text para extraer el contenido HTML como una cadena de texto, con el fin de que sea legible."
   ]
  },
  {
   "cell_type": "code",
   "execution_count": 6,
   "id": "09cc6b83",
   "metadata": {},
   "outputs": [],
   "source": [
    "data = requests.get(url).text\n",
    "# print(data)"
   ]
  },
  {
   "cell_type": "markdown",
   "id": "b0a1b1b9",
   "metadata": {},
   "source": [
    "#### Paso 2: Analizar el contenido HTML\n",
    "\n",
    "¿Qué es el parsing?\n",
    "En palabras simples, parsing (análisis sintáctico) se refiere al proceso de analizar una cadena de texto o una estructura de datos, generalmente siguiendo un conjunto de reglas o gramática, para comprender su estructura y significado.\n",
    "Consiste en descomponer un texto o dato en sus componentes individuales y luego analizarlos para extraer la información deseada o entender sus relaciones y significados.\n",
    "\n",
    "A continuación, se tomará el contenido HTML en bruto de una página web (o una cadena de código HTML) que necesita ser analizado (parseado) y lo transformarás en un formato estructurado y jerárquico que pueda analizarse y manipularse fácilmente en Python.\n",
    "Esto se puede hacer con una biblioteca de Python llamada Beautiful Soup.\n",
    "\n",
    "Analizar los datos usando la biblioteca BeautifulSoup\n",
    "Crear un nuevo objeto BeautifulSoup\n",
    "\n",
    "Nota: Para crear un objeto BeautifulSoup en Python, se deben pasar dos argumentos a su constructor:\n",
    "\n",
    "El contenido HTML o XML que se desea analizar, en forma de cadena de texto.\n",
    "\n",
    "El nombre del parser (analizador) que se quiere utilizar para procesar ese contenido.\n",
    "Este argumento es opcional; si no se especifica, BeautifulSoup usará el parser HTML por defecto incluido con la biblioteca.\n",
    "\n",
    "Se utilizara el parser \"html5lib\"."
   ]
  },
  {
   "cell_type": "code",
   "execution_count": 7,
   "id": "e657ccb1",
   "metadata": {},
   "outputs": [],
   "source": [
    "soup = BeautifulSoup(data, \"html5lib\")"
   ]
  },
  {
   "cell_type": "markdown",
   "id": "a19f10e3",
   "metadata": {},
   "source": [
    "#### Paso 3: Identificación de las etiquetas HTML\n",
    "Primero se crea un DataFrame vacío utilizando la función 'pd.DataFrane()' con las siguientes columnas:\n",
    "\n",
    "- Date\n",
    "- Open\n",
    "- High\n",
    "- Low\n",
    "- Close\n",
    "- Volume\n",
    "\n"
   ]
  },
  {
   "cell_type": "code",
   "execution_count": 8,
   "id": "1d0bb0a7",
   "metadata": {},
   "outputs": [],
   "source": [
    "netflix_data = pd.DataFrame(columns=[\"Date\", \"Open\", \"High\", \"Low\", \"Close\",\"Adj Close\", \"Volume\"])"
   ]
  },
  {
   "cell_type": "markdown",
   "id": "0992b917",
   "metadata": {},
   "source": [
    "#### Trabajo con tablas HTML\n",
    "\n",
    "A continuación se detallan las etiquetas utilizadas comúnmente para crear tablas en HTML:\n",
    "\n",
    "- **`<table>`**: Esta es la etiqueta raíz que define el inicio y el final de una tabla. Todo el contenido de la tabla está contenido dentro de estas etiquetas.\n",
    "\n",
    "- **`<tr>`**: Define una **fila** en la tabla. Cada fila se encierra entre estas etiquetas.\n",
    "\n",
    "- **`<td>`**: Define una **celda de datos** en la tabla. Cada celda está contenida dentro de esta etiqueta. El contenido de la celda va entre la apertura y el cierre de la etiqueta.\n",
    "\n",
    "- **`<th>`**: Define una **celda de encabezado** en la tabla. Estas celdas describen el contenido de una columna o fila. Por defecto, el texto dentro de esta etiqueta es **negrita** y está **centrado**.\n",
    "\n",
    "- **`<tbody>`**: Representa el **contenido principal** de la tabla. Dentro de esta etiqueta se encuentran una o más filas (`<tr>`).\n"
   ]
  },
  {
   "cell_type": "markdown",
   "id": "14316587",
   "metadata": {},
   "source": [
    "#### Paso 4: Uso de métodos de BeautifulSoup para extraer datos\n",
    "\n",
    "Se utilizan los métodos `find()` y `find_all()` del objeto BeautifulSoup para localizar el **cuerpo de la tabla** (`<tbody>`) y las **filas de la tabla** (`<tr>`) dentro del HTML.\n",
    "\n",
    "- El método **`find()`** devuelve el contenido de una **etiqueta específica**, es decir, la **primera coincidencia** encontrada en el documento.\n",
    "- El método **`find_all()`** devuelve una **lista con todas las etiquetas** que coincidan con el criterio de búsqueda.\n",
    "\n",
    "Estos métodos permiten recorrer la estructura de la tabla y extraer los datos requeridos de forma ordenada.\n"
   ]
  },
  {
   "cell_type": "code",
   "execution_count": 9,
   "id": "76b6f540",
   "metadata": {},
   "outputs": [],
   "source": [
    "# Primero se aísla el cuerpo de la tabla, que contiene toda la información\n",
    "# Luego se recorre cada fila y se obtienen todos los valores de las columnas para cada fila\n",
    "\n",
    "for row in soup.find(\"tbody\").find_all('tr'):\n",
    "    col = row.find_all('td')\n",
    "    date = col[0].text\n",
    "    open = col[1].text\n",
    "    high = col[2].text\n",
    "    low = col[3].text\n",
    "    close = col[4].text\n",
    "    adj_close = col[5].text\n",
    "    volume = col[6].text\n",
    "\n",
    "    # Finalmente, se agrega (append) la información de cada fila a la tabla\n",
    "    netflix_data = pd.concat([netflix_data, pd.DataFrame({\"Date\":[date], \"Open\":[open], \"High\":[high], \"Low\":[low], \"Close\":[close],\"Adj Close\":[adj_close], \"Volume\":[volume]})],\n",
    "                             ignore_index=True)\n",
    "    "
   ]
  },
  {
   "cell_type": "markdown",
   "id": "94b7fed6",
   "metadata": {},
   "source": [
    "#### Paso 5: Imprimir los datos extraídos\n",
    "\n",
    "Una vez extraídos y almacenados los datos en el DataFrame, se imprime su contenido para verificar que la información haya sido recolectada correctamente desde la tabla HTML.\n"
   ]
  },
  {
   "cell_type": "code",
   "execution_count": 10,
   "id": "53bc052f",
   "metadata": {},
   "outputs": [
    {
     "data": {
      "text/html": [
       "<div>\n",
       "<style scoped>\n",
       "    .dataframe tbody tr th:only-of-type {\n",
       "        vertical-align: middle;\n",
       "    }\n",
       "\n",
       "    .dataframe tbody tr th {\n",
       "        vertical-align: top;\n",
       "    }\n",
       "\n",
       "    .dataframe thead th {\n",
       "        text-align: right;\n",
       "    }\n",
       "</style>\n",
       "<table border=\"1\" class=\"dataframe\">\n",
       "  <thead>\n",
       "    <tr style=\"text-align: right;\">\n",
       "      <th></th>\n",
       "      <th>Date</th>\n",
       "      <th>Open</th>\n",
       "      <th>High</th>\n",
       "      <th>Low</th>\n",
       "      <th>Close</th>\n",
       "      <th>Adj Close</th>\n",
       "      <th>Volume</th>\n",
       "    </tr>\n",
       "  </thead>\n",
       "  <tbody>\n",
       "    <tr>\n",
       "      <th>0</th>\n",
       "      <td>Jun 01, 2021</td>\n",
       "      <td>504.01</td>\n",
       "      <td>536.13</td>\n",
       "      <td>482.14</td>\n",
       "      <td>528.21</td>\n",
       "      <td>528.21</td>\n",
       "      <td>78,560,600</td>\n",
       "    </tr>\n",
       "    <tr>\n",
       "      <th>1</th>\n",
       "      <td>May 01, 2021</td>\n",
       "      <td>512.65</td>\n",
       "      <td>518.95</td>\n",
       "      <td>478.54</td>\n",
       "      <td>502.81</td>\n",
       "      <td>502.81</td>\n",
       "      <td>66,927,600</td>\n",
       "    </tr>\n",
       "    <tr>\n",
       "      <th>2</th>\n",
       "      <td>Apr 01, 2021</td>\n",
       "      <td>529.93</td>\n",
       "      <td>563.56</td>\n",
       "      <td>499.00</td>\n",
       "      <td>513.47</td>\n",
       "      <td>513.47</td>\n",
       "      <td>111,573,300</td>\n",
       "    </tr>\n",
       "    <tr>\n",
       "      <th>3</th>\n",
       "      <td>Mar 01, 2021</td>\n",
       "      <td>545.57</td>\n",
       "      <td>556.99</td>\n",
       "      <td>492.85</td>\n",
       "      <td>521.66</td>\n",
       "      <td>521.66</td>\n",
       "      <td>90,183,900</td>\n",
       "    </tr>\n",
       "    <tr>\n",
       "      <th>4</th>\n",
       "      <td>Feb 01, 2021</td>\n",
       "      <td>536.79</td>\n",
       "      <td>566.65</td>\n",
       "      <td>518.28</td>\n",
       "      <td>538.85</td>\n",
       "      <td>538.85</td>\n",
       "      <td>61,902,300</td>\n",
       "    </tr>\n",
       "  </tbody>\n",
       "</table>\n",
       "</div>"
      ],
      "text/plain": [
       "           Date    Open    High     Low   Close Adj Close       Volume\n",
       "0  Jun 01, 2021  504.01  536.13  482.14  528.21    528.21   78,560,600\n",
       "1  May 01, 2021  512.65  518.95  478.54  502.81    502.81   66,927,600\n",
       "2  Apr 01, 2021  529.93  563.56  499.00  513.47    513.47  111,573,300\n",
       "3  Mar 01, 2021  545.57  556.99  492.85  521.66    521.66   90,183,900\n",
       "4  Feb 01, 2021  536.79  566.65  518.28  538.85    538.85   61,902,300"
      ]
     },
     "execution_count": 10,
     "metadata": {},
     "output_type": "execute_result"
    }
   ],
   "source": [
    "netflix_data.head()"
   ]
  },
  {
   "cell_type": "markdown",
   "id": "2e59278b",
   "metadata": {},
   "source": [
    "#### Extracción de datos utilizando la biblioteca pandas\n",
    "\n",
    "También se puede utilizar la función `read_html` de la biblioteca **pandas** junto con la URL para extraer datos directamente desde una página web.\n",
    "\n",
    "#### ¿Qué es `read_html` en la biblioteca pandas?\n",
    "\n",
    "`pd.read_html(url)` es una función proporcionada por la biblioteca pandas en Python que se utiliza para **extraer tablas** desde páginas web en formato HTML.  \n",
    "Recibe como entrada una URL y devuelve una **lista con todas las tablas** encontradas en dicha página.\n"
   ]
  },
  {
   "cell_type": "code",
   "execution_count": 11,
   "id": "e085ab5a",
   "metadata": {},
   "outputs": [],
   "source": [
    "read_html_pandas_data = pd.read_html(url)"
   ]
  },
  {
   "cell_type": "markdown",
   "id": "122e4604",
   "metadata": {},
   "source": [
    "También se puede convertir el objeto **BeautifulSoup** en una cadena de texto (*string*).  \n",
    "Esto permite, por ejemplo, pasarlo como entrada a funciones como `pd.read_html()`, que requieren una representación en texto del contenido HTML.\n",
    "\n",
    "\n"
   ]
  },
  {
   "cell_type": "code",
   "execution_count": 12,
   "id": "5be95644",
   "metadata": {},
   "outputs": [],
   "source": [
    "read_html_pandas_data = pd.read_html(str(soup))"
   ]
  },
  {
   "cell_type": "markdown",
   "id": "97ac3e14",
   "metadata": {},
   "source": [
    "Dado que hay **una sola tabla** en la página, se puede tomar directamente la **primera tabla** de la lista devuelta por `pd.read_html()`.\n"
   ]
  },
  {
   "cell_type": "code",
   "execution_count": 13,
   "id": "223215a6",
   "metadata": {},
   "outputs": [
    {
     "data": {
      "text/html": [
       "<div>\n",
       "<style scoped>\n",
       "    .dataframe tbody tr th:only-of-type {\n",
       "        vertical-align: middle;\n",
       "    }\n",
       "\n",
       "    .dataframe tbody tr th {\n",
       "        vertical-align: top;\n",
       "    }\n",
       "\n",
       "    .dataframe thead th {\n",
       "        text-align: right;\n",
       "    }\n",
       "</style>\n",
       "<table border=\"1\" class=\"dataframe\">\n",
       "  <thead>\n",
       "    <tr style=\"text-align: right;\">\n",
       "      <th></th>\n",
       "      <th>Date</th>\n",
       "      <th>Open</th>\n",
       "      <th>High</th>\n",
       "      <th>Low</th>\n",
       "      <th>Close*</th>\n",
       "      <th>Adj Close**</th>\n",
       "      <th>Volume</th>\n",
       "    </tr>\n",
       "  </thead>\n",
       "  <tbody>\n",
       "    <tr>\n",
       "      <th>0</th>\n",
       "      <td>Jun 01, 2021</td>\n",
       "      <td>504.01</td>\n",
       "      <td>536.13</td>\n",
       "      <td>482.14</td>\n",
       "      <td>528.21</td>\n",
       "      <td>528.21</td>\n",
       "      <td>78560600</td>\n",
       "    </tr>\n",
       "    <tr>\n",
       "      <th>1</th>\n",
       "      <td>May 01, 2021</td>\n",
       "      <td>512.65</td>\n",
       "      <td>518.95</td>\n",
       "      <td>478.54</td>\n",
       "      <td>502.81</td>\n",
       "      <td>502.81</td>\n",
       "      <td>66927600</td>\n",
       "    </tr>\n",
       "    <tr>\n",
       "      <th>2</th>\n",
       "      <td>Apr 01, 2021</td>\n",
       "      <td>529.93</td>\n",
       "      <td>563.56</td>\n",
       "      <td>499.00</td>\n",
       "      <td>513.47</td>\n",
       "      <td>513.47</td>\n",
       "      <td>111573300</td>\n",
       "    </tr>\n",
       "    <tr>\n",
       "      <th>3</th>\n",
       "      <td>Mar 01, 2021</td>\n",
       "      <td>545.57</td>\n",
       "      <td>556.99</td>\n",
       "      <td>492.85</td>\n",
       "      <td>521.66</td>\n",
       "      <td>521.66</td>\n",
       "      <td>90183900</td>\n",
       "    </tr>\n",
       "    <tr>\n",
       "      <th>4</th>\n",
       "      <td>Feb 01, 2021</td>\n",
       "      <td>536.79</td>\n",
       "      <td>566.65</td>\n",
       "      <td>518.28</td>\n",
       "      <td>538.85</td>\n",
       "      <td>538.85</td>\n",
       "      <td>61902300</td>\n",
       "    </tr>\n",
       "  </tbody>\n",
       "</table>\n",
       "</div>"
      ],
      "text/plain": [
       "           Date    Open    High     Low  Close* Adj Close**     Volume\n",
       "0  Jun 01, 2021  504.01  536.13  482.14  528.21      528.21   78560600\n",
       "1  May 01, 2021  512.65  518.95  478.54  502.81      502.81   66927600\n",
       "2  Apr 01, 2021  529.93  563.56  499.00  513.47      513.47  111573300\n",
       "3  Mar 01, 2021  545.57  556.99  492.85  521.66      521.66   90183900\n",
       "4  Feb 01, 2021  536.79  566.65  518.28  538.85      538.85   61902300"
      ]
     },
     "execution_count": 13,
     "metadata": {},
     "output_type": "execute_result"
    }
   ],
   "source": [
    "netflix_dataframe = read_html_pandas_data[0]\n",
    "\n",
    "netflix_dataframe.head()"
   ]
  },
  {
   "cell_type": "markdown",
   "id": "1925cbcc",
   "metadata": {},
   "source": [
    "#### Ejercicio: utilizar web scraping para extraer datos bursátiles"
   ]
  },
  {
   "cell_type": "code",
   "execution_count": 14,
   "id": "1bf8bc82",
   "metadata": {},
   "outputs": [],
   "source": [
    "import requests\n",
    "url = \"https://cf-courses-data.s3.us.cloud-object-storage.appdomain.cloud/IBMDeveloperSkillsNetwork-PY0220EN-SkillsNetwork/labs/project/amazon_data_webpage.html\""
   ]
  },
  {
   "cell_type": "code",
   "execution_count": 15,
   "id": "2709284e",
   "metadata": {},
   "outputs": [],
   "source": [
    "response = requests.get(url)                        # Envía una solicitud HTTP GET a la URL\n",
    "html_data = response.text                           # Guarda el contenido HTML de la respuesta en una variable\n",
    "soup = BeautifulSoup(html_data, \"html.parser\")      # Analiza el HTML usando el parser por defecto \"html.parser\"\n"
   ]
  },
  {
   "cell_type": "code",
   "execution_count": 22,
   "id": "9b11b1c8",
   "metadata": {},
   "outputs": [
    {
     "data": {
      "text/plain": [
       "<title>Amazon.com, Inc. (AMZN) Stock Historical Prices &amp; Data - Yahoo Finance</title>"
      ]
     },
     "execution_count": 22,
     "metadata": {},
     "output_type": "execute_result"
    }
   ],
   "source": [
    "# para ver el contenido del atrinuto 'title' (titulo de la pag. web)\n",
    "\n",
    "soup.title.text     # muestra el texto dentro de la etiqueta\n",
    "soup.title"
   ]
  },
  {
   "cell_type": "code",
   "execution_count": 17,
   "id": "a9cf0a94",
   "metadata": {},
   "outputs": [],
   "source": [
    "amazon_data = pd.DataFrame(columns=[\"Date\", \"Open\", \"High\", \"Low\", \"Close\", \"Adj Close\", \"Volume\"])  # DataFrame vacío\n",
    "\n",
    "for row in soup.find(\"tbody\").find_all(\"tr\"):  # Recorre cada fila de la tabla\n",
    "    col = row.find_all(\"td\")                   # Extrae todas las celdas de la fila\n",
    "    \n",
    "    date = col[0].text.strip()        # Fecha\n",
    "    Open = col[1].text.strip()        # Precio de apertura\n",
    "    high = col[2].text.strip()        # Precio máximo\n",
    "    low = col[3].text.strip()         # Precio mínimo\n",
    "    close = col[4].text.strip()       # Precio de cierre\n",
    "    adj_close = col[5].text.strip()   # Precio de cierre ajustado\n",
    "    volume = col[6].text.strip()      # Volumen\n",
    "\n",
    "    # Se concatena una nueva fila al DataFrame\n",
    "    amazon_data = pd.concat([\n",
    "        amazon_data, \n",
    "        pd.DataFrame({\n",
    "            \"Date\": [date], \n",
    "            \"Open\": [Open], \n",
    "            \"High\": [high], \n",
    "            \"Low\": [low], \n",
    "            \"Close\": [close], \n",
    "            \"Adj Close\": [adj_close], \n",
    "            \"Volume\": [volume]\n",
    "        })\n",
    "    ], ignore_index=True)\n",
    "\n"
   ]
  },
  {
   "cell_type": "code",
   "execution_count": 18,
   "id": "2c647de4",
   "metadata": {},
   "outputs": [
    {
     "data": {
      "text/html": [
       "<div>\n",
       "<style scoped>\n",
       "    .dataframe tbody tr th:only-of-type {\n",
       "        vertical-align: middle;\n",
       "    }\n",
       "\n",
       "    .dataframe tbody tr th {\n",
       "        vertical-align: top;\n",
       "    }\n",
       "\n",
       "    .dataframe thead th {\n",
       "        text-align: right;\n",
       "    }\n",
       "</style>\n",
       "<table border=\"1\" class=\"dataframe\">\n",
       "  <thead>\n",
       "    <tr style=\"text-align: right;\">\n",
       "      <th></th>\n",
       "      <th>Date</th>\n",
       "      <th>Open</th>\n",
       "      <th>High</th>\n",
       "      <th>Low</th>\n",
       "      <th>Close</th>\n",
       "      <th>Adj Close</th>\n",
       "      <th>Volume</th>\n",
       "    </tr>\n",
       "  </thead>\n",
       "  <tbody>\n",
       "    <tr>\n",
       "      <th>0</th>\n",
       "      <td>Jan 01, 2021</td>\n",
       "      <td>3,270.00</td>\n",
       "      <td>3,363.89</td>\n",
       "      <td>3,086.00</td>\n",
       "      <td>3,206.20</td>\n",
       "      <td>3,206.20</td>\n",
       "      <td>71,528,900</td>\n",
       "    </tr>\n",
       "    <tr>\n",
       "      <th>1</th>\n",
       "      <td>Dec 01, 2020</td>\n",
       "      <td>3,188.50</td>\n",
       "      <td>3,350.65</td>\n",
       "      <td>3,072.82</td>\n",
       "      <td>3,256.93</td>\n",
       "      <td>3,256.93</td>\n",
       "      <td>77,556,200</td>\n",
       "    </tr>\n",
       "    <tr>\n",
       "      <th>2</th>\n",
       "      <td>Nov 01, 2020</td>\n",
       "      <td>3,061.74</td>\n",
       "      <td>3,366.80</td>\n",
       "      <td>2,950.12</td>\n",
       "      <td>3,168.04</td>\n",
       "      <td>3,168.04</td>\n",
       "      <td>90,810,500</td>\n",
       "    </tr>\n",
       "    <tr>\n",
       "      <th>3</th>\n",
       "      <td>Oct 01, 2020</td>\n",
       "      <td>3,208.00</td>\n",
       "      <td>3,496.24</td>\n",
       "      <td>3,019.00</td>\n",
       "      <td>3,036.15</td>\n",
       "      <td>3,036.15</td>\n",
       "      <td>116,226,100</td>\n",
       "    </tr>\n",
       "    <tr>\n",
       "      <th>4</th>\n",
       "      <td>Sep 01, 2020</td>\n",
       "      <td>3,489.58</td>\n",
       "      <td>3,552.25</td>\n",
       "      <td>2,871.00</td>\n",
       "      <td>3,148.73</td>\n",
       "      <td>3,148.73</td>\n",
       "      <td>115,899,300</td>\n",
       "    </tr>\n",
       "  </tbody>\n",
       "</table>\n",
       "</div>"
      ],
      "text/plain": [
       "           Date      Open      High       Low     Close Adj Close       Volume\n",
       "0  Jan 01, 2021  3,270.00  3,363.89  3,086.00  3,206.20  3,206.20   71,528,900\n",
       "1  Dec 01, 2020  3,188.50  3,350.65  3,072.82  3,256.93  3,256.93   77,556,200\n",
       "2  Nov 01, 2020  3,061.74  3,366.80  2,950.12  3,168.04  3,168.04   90,810,500\n",
       "3  Oct 01, 2020  3,208.00  3,496.24  3,019.00  3,036.15  3,036.15  116,226,100\n",
       "4  Sep 01, 2020  3,489.58  3,552.25  2,871.00  3,148.73  3,148.73  115,899,300"
      ]
     },
     "execution_count": 18,
     "metadata": {},
     "output_type": "execute_result"
    }
   ],
   "source": [
    "amazon_data.head()"
   ]
  },
  {
   "cell_type": "markdown",
   "id": "580e1a89",
   "metadata": {},
   "source": []
  },
  {
   "cell_type": "code",
   "execution_count": 19,
   "id": "61d229e0",
   "metadata": {},
   "outputs": [
    {
     "data": {
      "text/plain": [
       "Index(['Date', 'Open', 'High', 'Low', 'Close', 'Adj Close', 'Volume'], dtype='object')"
      ]
     },
     "execution_count": 19,
     "metadata": {},
     "output_type": "execute_result"
    }
   ],
   "source": [
    "# Nombre de las columnas en el DataFrame\n",
    "amazon_data.columns"
   ]
  },
  {
   "cell_type": "code",
   "execution_count": 20,
   "id": "e3e9fbaf",
   "metadata": {},
   "outputs": [
    {
     "data": {
      "text/plain": [
       "'656.29'"
      ]
     },
     "execution_count": 20,
     "metadata": {},
     "output_type": "execute_result"
    }
   ],
   "source": [
    "# Acceder al valor de la columna \"Open\" en la última fila\n",
    "\n",
    "amazon_data.iloc[-1][\"Open\"]"
   ]
  },
  {
   "cell_type": "code",
   "execution_count": 21,
   "id": "e0db85d3",
   "metadata": {},
   "outputs": [
    {
     "data": {
      "text/html": [
       "<div>\n",
       "<style scoped>\n",
       "    .dataframe tbody tr th:only-of-type {\n",
       "        vertical-align: middle;\n",
       "    }\n",
       "\n",
       "    .dataframe tbody tr th {\n",
       "        vertical-align: top;\n",
       "    }\n",
       "\n",
       "    .dataframe thead th {\n",
       "        text-align: right;\n",
       "    }\n",
       "</style>\n",
       "<table border=\"1\" class=\"dataframe\">\n",
       "  <thead>\n",
       "    <tr style=\"text-align: right;\">\n",
       "      <th></th>\n",
       "      <th>Date</th>\n",
       "      <th>Open</th>\n",
       "      <th>High</th>\n",
       "      <th>Low</th>\n",
       "      <th>Close</th>\n",
       "      <th>Adj Close</th>\n",
       "      <th>Volume</th>\n",
       "    </tr>\n",
       "  </thead>\n",
       "  <tbody>\n",
       "    <tr>\n",
       "      <th>56</th>\n",
       "      <td>May 01, 2016</td>\n",
       "      <td>663.92</td>\n",
       "      <td>724.23</td>\n",
       "      <td>656.00</td>\n",
       "      <td>722.79</td>\n",
       "      <td>722.79</td>\n",
       "      <td>90,614,500</td>\n",
       "    </tr>\n",
       "    <tr>\n",
       "      <th>57</th>\n",
       "      <td>Apr 01, 2016</td>\n",
       "      <td>590.49</td>\n",
       "      <td>669.98</td>\n",
       "      <td>585.25</td>\n",
       "      <td>659.59</td>\n",
       "      <td>659.59</td>\n",
       "      <td>78,464,200</td>\n",
       "    </tr>\n",
       "    <tr>\n",
       "      <th>58</th>\n",
       "      <td>Mar 01, 2016</td>\n",
       "      <td>556.29</td>\n",
       "      <td>603.24</td>\n",
       "      <td>538.58</td>\n",
       "      <td>593.64</td>\n",
       "      <td>593.64</td>\n",
       "      <td>94,009,500</td>\n",
       "    </tr>\n",
       "    <tr>\n",
       "      <th>59</th>\n",
       "      <td>Feb 01, 2016</td>\n",
       "      <td>578.15</td>\n",
       "      <td>581.80</td>\n",
       "      <td>474.00</td>\n",
       "      <td>552.52</td>\n",
       "      <td>552.52</td>\n",
       "      <td>124,144,800</td>\n",
       "    </tr>\n",
       "    <tr>\n",
       "      <th>60</th>\n",
       "      <td>Jan 01, 2016</td>\n",
       "      <td>656.29</td>\n",
       "      <td>657.72</td>\n",
       "      <td>547.18</td>\n",
       "      <td>587.00</td>\n",
       "      <td>587.00</td>\n",
       "      <td>130,200,900</td>\n",
       "    </tr>\n",
       "  </tbody>\n",
       "</table>\n",
       "</div>"
      ],
      "text/plain": [
       "            Date    Open    High     Low   Close Adj Close       Volume\n",
       "56  May 01, 2016  663.92  724.23  656.00  722.79    722.79   90,614,500\n",
       "57  Apr 01, 2016  590.49  669.98  585.25  659.59    659.59   78,464,200\n",
       "58  Mar 01, 2016  556.29  603.24  538.58  593.64    593.64   94,009,500\n",
       "59  Feb 01, 2016  578.15  581.80  474.00  552.52    552.52  124,144,800\n",
       "60  Jan 01, 2016  656.29  657.72  547.18  587.00    587.00  130,200,900"
      ]
     },
     "execution_count": 21,
     "metadata": {},
     "output_type": "execute_result"
    }
   ],
   "source": [
    "amazon_data.tail()"
   ]
  },
  {
   "cell_type": "code",
   "execution_count": 30,
   "id": "b8557d3f",
   "metadata": {},
   "outputs": [],
   "source": [
    "# Guardar las tablas como csv en el directorio de trabajo\n",
    "\n",
    "netflix_dataframe.to_csv(\"netflix_data.csv\", index=False, encoding='utf-8')\n",
    "amazon_data.to_csv(\"amazon_data.csv\", index=False, encoding='utf-8')\n"
   ]
  },
  {
   "cell_type": "code",
   "execution_count": null,
   "id": "983edc72",
   "metadata": {},
   "outputs": [],
   "source": []
  }
 ],
 "metadata": {
  "kernelspec": {
   "display_name": "Python 3",
   "language": "python",
   "name": "python3"
  },
  "language_info": {
   "codemirror_mode": {
    "name": "ipython",
    "version": 3
   },
   "file_extension": ".py",
   "mimetype": "text/x-python",
   "name": "python",
   "nbconvert_exporter": "python",
   "pygments_lexer": "ipython3",
   "version": "3.13.2"
  }
 },
 "nbformat": 4,
 "nbformat_minor": 5
}
