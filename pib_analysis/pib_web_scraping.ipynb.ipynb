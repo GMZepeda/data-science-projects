{
 "cells": [
  {
   "cell_type": "markdown",
   "id": "f63ffeb3-00ba-4914-ab2a-026fadbfa873",
   "metadata": {},
   "source": [
    "# Proyecto de práctica: Extracción y procesamiento de datos del PIB\n",
    "\n",
    "En este proyecto de práctica, se extraerán datos de un sitio web utilizando web scraping y solicitudes a APIs, y se procesarán utilizando las bibliotecas Pandas y Numpy.\n",
    "El objetivo es construir un DataFrame con las 10 economías principales, procesar sus valores de PIB, y prepararlo para un análisis o visualización posterior."
   ]
  },
  {
   "cell_type": "markdown",
   "id": "501e2418-b89d-4912-bbce-9c550ccaa6cc",
   "metadata": {},
   "source": [
    "## Escenario del Proyecto:\n",
    "Una empresa internacional que busca expandir su negocio en distintos países del mundo te ha contratado. Has sido contratado como Ingeniero de Datos Junior y se te ha asignado la tarea de crear un script que pueda extraer la lista de las 10 economías más grandes del mundo en orden descendente según su PIB en miles de millones de USD (redondeado a 2 decimales), según lo registrado por el Fondo Monetario Internacional (FMI)."
   ]
  },
  {
   "cell_type": "markdown",
   "id": "bc903469-c73f-4ad1-8b47-f94daee7c8c3",
   "metadata": {},
   "source": [
    "URL: https://web.archive.org/web/20230902185326/https://en.wikipedia.org/wiki/List_of_countries_by_GDP_%28nominal%29inal%29"
   ]
  },
  {
   "cell_type": "markdown",
   "id": "5f387498-065d-455d-aebf-89efe10cbc73",
   "metadata": {},
   "source": [
    "## Configuración\n",
    "Para este laboratorio, utilizaremos las siguientes bibliotecas:\n",
    "\n",
    "pandas para gestionar los datos.\n",
    "\n",
    "numpy para realizar operaciones matemáticas."
   ]
  },
  {
   "cell_type": "code",
   "execution_count": 1,
   "id": "62bec6ed-b4f9-48fa-b8a6-fe20478b2cf8",
   "metadata": {},
   "outputs": [
    {
     "name": "stdout",
     "output_type": "stream",
     "text": [
      "Requirement already satisfied: pandas in c:\\users\\germa\\anaconda3\\lib\\site-packages (2.2.2)\n",
      "Requirement already satisfied: numpy in c:\\users\\germa\\anaconda3\\lib\\site-packages (1.26.4)\n",
      "Requirement already satisfied: python-dateutil>=2.8.2 in c:\\users\\germa\\anaconda3\\lib\\site-packages (from pandas) (2.9.0.post0)\n",
      "Requirement already satisfied: pytz>=2020.1 in c:\\users\\germa\\anaconda3\\lib\\site-packages (from pandas) (2024.1)\n",
      "Requirement already satisfied: tzdata>=2022.7 in c:\\users\\germa\\anaconda3\\lib\\site-packages (from pandas) (2023.3)\n",
      "Requirement already satisfied: six>=1.5 in c:\\users\\germa\\anaconda3\\lib\\site-packages (from python-dateutil>=2.8.2->pandas) (1.16.0)\n",
      "Requirement already satisfied: lxml in c:\\users\\germa\\anaconda3\\lib\\site-packages (5.2.2)\n"
     ]
    }
   ],
   "source": [
    "!pip install pandas numpy\n",
    "!pip install lxml "
   ]
  },
  {
   "cell_type": "code",
   "execution_count": 3,
   "id": "6a130ba2-d54c-4ff9-8be5-245c53a85f6f",
   "metadata": {},
   "outputs": [],
   "source": [
    "# usar para suprimir las advertencias generadas por tu código:\n",
    "def warn(*args, **kwargs):\n",
    "    pass\n",
    "import warnings\n",
    "warnings.warn = warn\n",
    "warnings.filterwarnings('ignore')"
   ]
  },
  {
   "cell_type": "code",
   "execution_count": 36,
   "id": "2a27c473-4796-482a-aade-de984cc791b0",
   "metadata": {},
   "outputs": [],
   "source": [
    "import numpy as np\n",
    "import pandas as pd\n",
    "import os"
   ]
  },
  {
   "cell_type": "code",
   "execution_count": 37,
   "id": "b5bd0c20-c578-4f42-98d1-51918fc24e39",
   "metadata": {},
   "outputs": [
    {
     "data": {
      "text/plain": [
       "'C:\\\\PROYECTOS\\\\GitHub'"
      ]
     },
     "execution_count": 37,
     "metadata": {},
     "output_type": "execute_result"
    }
   ],
   "source": [
    "ruta = r\"C:\\PROYECTOS\\GitHub\"\n",
    "os.chdir(ruta)\n",
    "os.getcwd()"
   ]
  },
  {
   "cell_type": "markdown",
   "id": "e998863d-3aa4-4cdd-9324-a21735bc0344",
   "metadata": {},
   "source": [
    "## Ejercicio 1\n",
    "Extrae los datos necesarios del PIB desde la URL proporcionada usando Web Scraping."
   ]
  },
  {
   "cell_type": "code",
   "execution_count": 38,
   "id": "2d756729-0b27-4017-b3d3-203304862abf",
   "metadata": {},
   "outputs": [],
   "source": [
    "url = 'https://web.archive.org/web/20230902185326/https://en.wikipedia.org/wiki/List_of_countries_by_GDP_%28nominal%29'"
   ]
  },
  {
   "cell_type": "code",
   "execution_count": 39,
   "id": "2efa468e-e1f6-475b-84ec-8d6a049580d3",
   "metadata": {},
   "outputs": [
    {
     "name": "stdout",
     "output_type": "stream",
     "text": [
      "Se encontraron 8 tablas.\n",
      "Primeras filas de la primera tabla: \n",
      "      0     1     2\n",
      "0   Aug   SEP   Oct\n",
      "1   NaN    02   NaN\n",
      "2  2022  2023  2024\n"
     ]
    }
   ],
   "source": [
    "# Extraer las tablas de la pagina web usando Pandas. \n",
    "\n",
    "try: \n",
    "    # Extrae todas las tablas de la página web\n",
    "    # Retorna una lista de DataFrames, uno por cada tabla encontrada\n",
    "    tablas_encontradas = pd.read_html(url)\n",
    "    print(f'Se encontraron {len(tablas_encontradas)} tablas.')\n",
    "    print('Primeras filas de la primera tabla: ')\n",
    "    print(tablas_encontradas[0].head())\n",
    "\n",
    "# Este bloque es necesario para capturar errores\n",
    "except Exception as e:\n",
    "    print(f'Ocurrió un error: {e}')\n",
    "    print('Asegúrate de que la URL sea válida y que la página contenga tablas.')\n"
   ]
  },
  {
   "cell_type": "code",
   "execution_count": 40,
   "id": "2f4df9d3-8714-4dcb-944a-fb3a95180030",
   "metadata": {},
   "outputs": [
    {
     "name": "stdout",
     "output_type": "stream",
     "text": [
      "----Información de la Tabla 0----\n",
      "Dimensiones (filas, columnas): (3, 3)\n",
      "Primeras 5 filas:\n",
      "      0     1     2\n",
      "0   Aug   SEP   Oct\n",
      "1   NaN    02   NaN\n",
      "2  2022  2023  2024\n",
      "\n",
      "\n",
      "----Información de la Tabla 1----\n",
      "Dimensiones (filas, columnas): (1, 1)\n",
      "Primeras 5 filas:\n",
      "                                                   0\n",
      "0  Largest economies in the world by GDP (nominal...\n",
      "\n",
      "\n",
      "----Información de la Tabla 2----\n",
      "Dimensiones (filas, columnas): (1, 3)\n",
      "Primeras 5 filas:\n",
      "                                                   0  \\\n",
      "0  > $20 trillion $10–20 trillion $5–10 trillion ...   \n",
      "\n",
      "                                                   1  \\\n",
      "0  $750 billion – $1 trillion $500–750 billion $2...   \n",
      "\n",
      "                                                   2  \n",
      "0  $50–100 billion $25–50 billion $5–25 billion <...  \n",
      "\n",
      "\n",
      "----Información de la Tabla 3----\n",
      "Dimensiones (filas, columnas): (214, 8)\n",
      "Primeras 5 filas:\n",
      "  Country/Territory UN region IMF[1][13]            World Bank[14]             \\\n",
      "  Country/Territory UN region   Estimate       Year       Estimate       Year   \n",
      "0             World         —  105568776       2023      100562011       2022   \n",
      "1     United States  Americas   26854599       2023       25462700       2022   \n",
      "2             China      Asia   19373586  [n 1]2023       17963171  [n 3]2022   \n",
      "3             Japan      Asia    4409738       2023        4231141       2022   \n",
      "4           Germany    Europe    4308854       2023        4072192       2022   \n",
      "\n",
      "  United Nations[15]             \n",
      "            Estimate       Year  \n",
      "0           96698005       2021  \n",
      "1           23315081       2021  \n",
      "2           17734131  [n 1]2021  \n",
      "3            4940878       2021  \n",
      "4            4259935       2021  \n",
      "\n",
      "\n",
      "----Información de la Tabla 4----\n",
      "Dimensiones (filas, columnas): (9, 2)\n",
      "Primeras 5 filas:\n",
      "  vteLists of countries by financial rankings  \\\n",
      "0                                       Trade   \n",
      "1                                  Investment   \n",
      "2                                       Funds   \n",
      "3                             Budget and debt   \n",
      "4                            Income and taxes   \n",
      "\n",
      "       vteLists of countries by financial rankings.1  \n",
      "0  Account balance % of GDP Exports by product me...  \n",
      "1                   FDI received past FDI abroad GFI  \n",
      "2  Forex reserves Forex reserves (ex. gold) Gold ...  \n",
      "3  Government budget PPP % of GDP per capita Cred...  \n",
      "4  Tax rates Inheritance tax Tax revenue Wage ave...  \n",
      "\n",
      "\n",
      "----Información de la Tabla 5----\n",
      "Dimensiones (filas, columnas): (7, 2)\n",
      "Primeras 5 filas:\n",
      "  vteLists of countries by GDP rankings  \\\n",
      "0                               Nominal   \n",
      "1         Purchasing power parity (PPP)   \n",
      "2                           Growth rate   \n",
      "3           Gross national income (GNI)   \n",
      "4                   Countries by region   \n",
      "\n",
      "             vteLists of countries by GDP rankings.1  \n",
      "0  Per capita Past and projected per capita Secto...  \n",
      "1  Per capita Past per capita Past and projected ...  \n",
      "2  African countries Asian states European Union ...  \n",
      "3                  PPP per capita Nominal per capita  \n",
      "4  Africa PPP nominal Commonwealth of Nations PPP...  \n",
      "\n",
      "\n",
      "----Información de la Tabla 6----\n",
      "Dimensiones (filas, columnas): (13, 2)\n",
      "Primeras 5 filas:\n",
      "             vteEconomic classification of countries  \\\n",
      "0  Developed country Developing country Least dev...   \n",
      "1                                  Three-World Model   \n",
      "2                       Gross domestic product (GDP)   \n",
      "3                                            Nominal   \n",
      "4                      Purchasing power parity (PPP)   \n",
      "\n",
      "           vteEconomic classification of countries.1  \n",
      "0  Developed country Developing country Least dev...  \n",
      "1  First World Second World Third World Fourth World  \n",
      "2  Nominal By country past and projected per capi...  \n",
      "3  By country past and projected per capita per c...  \n",
      "4  By country future estimates per capita per cap...  \n",
      "\n",
      "\n",
      "----Información de la Tabla 7----\n",
      "Dimensiones (filas, columnas): (2, 2)\n",
      "Primeras 5 filas:\n",
      "                               0  \\\n",
      "0                        Nominal   \n",
      "1  Purchasing power parity (PPP)   \n",
      "\n",
      "                                                   1  \n",
      "0  By country past and projected per capita per c...  \n",
      "1  By country future estimates per capita per cap...  \n",
      "\n",
      "\n"
     ]
    }
   ],
   "source": [
    "   # Itera sobre cada tabla en la lista para mostrar su información\n",
    "for i, tabla in enumerate(tablas_encontradas):\n",
    "    print(f'----Información de la Tabla {i}----')\n",
    "    print(f'Dimensiones (filas, columnas): {tabla.shape}')\n",
    "    print('Primeras 5 filas:')\n",
    "    print(tabla.head())\n",
    "    print('\\n') # Salto de linea para separar la info de cada tabla\n",
    "          \n"
   ]
  },
  {
   "cell_type": "code",
   "execution_count": 41,
   "id": "015e9d27-4088-4a66-8bb4-7fce5e39812c",
   "metadata": {},
   "outputs": [
    {
     "name": "stdout",
     "output_type": "stream",
     "text": [
      "DataFrame de PBI Nominal cargado correctamente. Primeras 5 filas: \n",
      "\n",
      "  Country/Territory UN region IMF[1][13]            World Bank[14]             \\\n",
      "  Country/Territory UN region   Estimate       Year       Estimate       Year   \n",
      "0             World         —  105568776       2023      100562011       2022   \n",
      "1     United States  Americas   26854599       2023       25462700       2022   \n",
      "2             China      Asia   19373586  [n 1]2023       17963171  [n 3]2022   \n",
      "3             Japan      Asia    4409738       2023        4231141       2022   \n",
      "4           Germany    Europe    4308854       2023        4072192       2022   \n",
      "\n",
      "  United Nations[15]             \n",
      "            Estimate       Year  \n",
      "0           96698005       2021  \n",
      "1           23315081       2021  \n",
      "2           17734131  [n 1]2021  \n",
      "3            4940878       2021  \n",
      "4            4259935       2021  \n"
     ]
    }
   ],
   "source": [
    "df_pib_nominal = tablas_encontradas[3]\n",
    "print(\"DataFrame de PBI Nominal cargado correctamente. Primeras 5 filas: \\n\")\n",
    "print(df_pib_nominal.head())"
   ]
  },
  {
   "cell_type": "code",
   "execution_count": 42,
   "id": "3e539a8e-2fb6-450c-81bd-ded4976045be",
   "metadata": {},
   "outputs": [
    {
     "name": "stdout",
     "output_type": "stream",
     "text": [
      "Nombre de las columnas: \n",
      "\n",
      "[('Country/Territory', 'Country/Territory'), ('UN region', 'UN region'), ('IMF[1][13]', 'Estimate'), ('IMF[1][13]', 'Year'), ('World Bank[14]', 'Estimate'), ('World Bank[14]', 'Year'), ('United Nations[15]', 'Estimate'), ('United Nations[15]', 'Year')]\n"
     ]
    }
   ],
   "source": [
    "print(\"Nombre de las columnas: \\n\")\n",
    "print(df_pib_nominal.columns.tolist()) # Se ven los nombres de columnas como lista de tuplas\n",
    "                                       # cuando son columnas multinivel (MultiIndex)"
   ]
  },
  {
   "cell_type": "code",
   "execution_count": 43,
   "id": "32d52590-d25e-46d5-a0f3-e45f677c6016",
   "metadata": {},
   "outputs": [
    {
     "name": "stdout",
     "output_type": "stream",
     "text": [
      "['Country/Territory_Country/Territory', 'UN region_UN region', 'IMF[1][13]_Estimate', 'IMF[1][13]_Year', 'World Bank[14]_Estimate', 'World Bank[14]_Year', 'United Nations[15]_Estimate', 'United Nations[15]_Year']\n"
     ]
    }
   ],
   "source": [
    "# Algunas columnas tienen índices de dos niveles (tuplas), otras solo uno.\n",
    "# Este código aplana columnas con MultiIndex, sin asumir que todas tengan 2 niveles.\n",
    "# Si la columna es una tupla, une todos sus elementos con \"_\".\n",
    "# Si no es una tupla, simplemente la convierte a string.\n",
    "# Resultado: nombres de columnas planos y seguros para análisis posterior.\n",
    "\n",
    "\n",
    "\n",
    "# Aplana columnas de MultiIndex uniendo con \"_\"\n",
    "df_pib_nominal.columns = [\n",
    "    '_'.join(map(str, col)) if isinstance(col, tuple) else str(col)\n",
    "    for col in df_pib_nominal.columns\n",
    "]\n",
    "print(df_pib_nominal.columns.tolist())"
   ]
  },
  {
   "cell_type": "code",
   "execution_count": 44,
   "id": "f458c517-9718-4c6c-a927-f8ec95d1f98e",
   "metadata": {},
   "outputs": [
    {
     "name": "stdout",
     "output_type": "stream",
     "text": [
      "Información general del DataFrame: \n",
      "\n",
      "<class 'pandas.core.frame.DataFrame'>\n",
      "RangeIndex: 214 entries, 0 to 213\n",
      "Data columns (total 8 columns):\n",
      " #   Column                               Non-Null Count  Dtype \n",
      "---  ------                               --------------  ----- \n",
      " 0   Country/Territory_Country/Territory  214 non-null    object\n",
      " 1   UN region_UN region                  214 non-null    object\n",
      " 2   IMF[1][13]_Estimate                  214 non-null    object\n",
      " 3   IMF[1][13]_Year                      214 non-null    object\n",
      " 4   World Bank[14]_Estimate              214 non-null    object\n",
      " 5   World Bank[14]_Year                  214 non-null    object\n",
      " 6   United Nations[15]_Estimate          214 non-null    object\n",
      " 7   United Nations[15]_Year              214 non-null    object\n",
      "dtypes: object(8)\n",
      "memory usage: 13.5+ KB\n",
      "None\n"
     ]
    }
   ],
   "source": [
    "print(\"Información general del DataFrame: \\n\")\n",
    "print(df_pib_nominal.info())"
   ]
  },
  {
   "cell_type": "code",
   "execution_count": 45,
   "id": "ca90d40d-3fe2-4273-9a61-b163c36f97fa",
   "metadata": {},
   "outputs": [
    {
     "name": "stdout",
     "output_type": "stream",
     "text": [
      "Estadisticas descriptivas: \n",
      "\n",
      "       Country/Territory_Country/Territory UN region_UN region  \\\n",
      "count                                  214                 214   \n",
      "unique                                 214                   6   \n",
      "top                                  World              Africa   \n",
      "freq                                     1                  55   \n",
      "\n",
      "       IMF[1][13]_Estimate IMF[1][13]_Year World Bank[14]_Estimate  \\\n",
      "count                  214             214                     214   \n",
      "unique                 193              11                     187   \n",
      "top                      —            2023                       —   \n",
      "freq                    22             183                      27   \n",
      "\n",
      "       World Bank[14]_Year United Nations[15]_Estimate United Nations[15]_Year  \n",
      "count                  214                         214                     214  \n",
      "unique                   9                         213                      10  \n",
      "top                   2022                        5809                    2021  \n",
      "freq                   180                           2                     205  \n"
     ]
    }
   ],
   "source": [
    "print(\"Estadisticas descriptivas: \\n\")\n",
    "print(df_pib_nominal.describe())"
   ]
  },
  {
   "cell_type": "code",
   "execution_count": 46,
   "id": "fc58f448-0fa5-467c-ac7c-e846cfc96a81",
   "metadata": {},
   "outputs": [
    {
     "name": "stdout",
     "output_type": "stream",
     "text": [
      "Valores faltantes por columna: \n",
      "\n",
      "Country/Territory_Country/Territory    0\n",
      "UN region_UN region                    0\n",
      "IMF[1][13]_Estimate                    0\n",
      "IMF[1][13]_Year                        0\n",
      "World Bank[14]_Estimate                0\n",
      "World Bank[14]_Year                    0\n",
      "United Nations[15]_Estimate            0\n",
      "United Nations[15]_Year                0\n",
      "dtype: int64\n"
     ]
    }
   ],
   "source": [
    "print(\"Valores faltantes por columna: \\n\")\n",
    "print(df_pib_nominal.isnull().sum())"
   ]
  },
  {
   "cell_type": "code",
   "execution_count": 47,
   "id": "5291690a-b4ef-4ee4-94af-f18dc0e6f8b0",
   "metadata": {},
   "outputs": [
    {
     "data": {
      "text/html": [
       "<div>\n",
       "<style scoped>\n",
       "    .dataframe tbody tr th:only-of-type {\n",
       "        vertical-align: middle;\n",
       "    }\n",
       "\n",
       "    .dataframe tbody tr th {\n",
       "        vertical-align: top;\n",
       "    }\n",
       "\n",
       "    .dataframe thead th {\n",
       "        text-align: right;\n",
       "    }\n",
       "</style>\n",
       "<table border=\"1\" class=\"dataframe\">\n",
       "  <thead>\n",
       "    <tr style=\"text-align: right;\">\n",
       "      <th></th>\n",
       "      <th>Country/Territory_Country/Territory</th>\n",
       "      <th>UN region_UN region</th>\n",
       "      <th>IMF[1][13]_Estimate</th>\n",
       "      <th>IMF[1][13]_Year</th>\n",
       "      <th>World Bank[14]_Estimate</th>\n",
       "      <th>World Bank[14]_Year</th>\n",
       "      <th>United Nations[15]_Estimate</th>\n",
       "      <th>United Nations[15]_Year</th>\n",
       "    </tr>\n",
       "  </thead>\n",
       "  <tbody>\n",
       "    <tr>\n",
       "      <th>0</th>\n",
       "      <td>World</td>\n",
       "      <td>—</td>\n",
       "      <td>105568776</td>\n",
       "      <td>2023</td>\n",
       "      <td>100562011</td>\n",
       "      <td>2022</td>\n",
       "      <td>96698005</td>\n",
       "      <td>2021</td>\n",
       "    </tr>\n",
       "    <tr>\n",
       "      <th>1</th>\n",
       "      <td>United States</td>\n",
       "      <td>Americas</td>\n",
       "      <td>26854599</td>\n",
       "      <td>2023</td>\n",
       "      <td>25462700</td>\n",
       "      <td>2022</td>\n",
       "      <td>23315081</td>\n",
       "      <td>2021</td>\n",
       "    </tr>\n",
       "    <tr>\n",
       "      <th>2</th>\n",
       "      <td>China</td>\n",
       "      <td>Asia</td>\n",
       "      <td>19373586</td>\n",
       "      <td>[n 1]2023</td>\n",
       "      <td>17963171</td>\n",
       "      <td>[n 3]2022</td>\n",
       "      <td>17734131</td>\n",
       "      <td>[n 1]2021</td>\n",
       "    </tr>\n",
       "    <tr>\n",
       "      <th>3</th>\n",
       "      <td>Japan</td>\n",
       "      <td>Asia</td>\n",
       "      <td>4409738</td>\n",
       "      <td>2023</td>\n",
       "      <td>4231141</td>\n",
       "      <td>2022</td>\n",
       "      <td>4940878</td>\n",
       "      <td>2021</td>\n",
       "    </tr>\n",
       "    <tr>\n",
       "      <th>4</th>\n",
       "      <td>Germany</td>\n",
       "      <td>Europe</td>\n",
       "      <td>4308854</td>\n",
       "      <td>2023</td>\n",
       "      <td>4072192</td>\n",
       "      <td>2022</td>\n",
       "      <td>4259935</td>\n",
       "      <td>2021</td>\n",
       "    </tr>\n",
       "  </tbody>\n",
       "</table>\n",
       "</div>"
      ],
      "text/plain": [
       "  Country/Territory_Country/Territory UN region_UN region IMF[1][13]_Estimate  \\\n",
       "0                               World                   —           105568776   \n",
       "1                       United States            Americas            26854599   \n",
       "2                               China                Asia            19373586   \n",
       "3                               Japan                Asia             4409738   \n",
       "4                             Germany              Europe             4308854   \n",
       "\n",
       "  IMF[1][13]_Year World Bank[14]_Estimate World Bank[14]_Year  \\\n",
       "0            2023               100562011                2022   \n",
       "1            2023                25462700                2022   \n",
       "2       [n 1]2023                17963171           [n 3]2022   \n",
       "3            2023                 4231141                2022   \n",
       "4            2023                 4072192                2022   \n",
       "\n",
       "  United Nations[15]_Estimate United Nations[15]_Year  \n",
       "0                    96698005                    2021  \n",
       "1                    23315081                    2021  \n",
       "2                    17734131               [n 1]2021  \n",
       "3                     4940878                    2021  \n",
       "4                     4259935                    2021  "
      ]
     },
     "execution_count": 47,
     "metadata": {},
     "output_type": "execute_result"
    }
   ],
   "source": [
    "df_pib_nominal.head()"
   ]
  },
  {
   "cell_type": "code",
   "execution_count": 48,
   "id": "780e8da0-728f-4d8a-8972-c06e85e41849",
   "metadata": {},
   "outputs": [],
   "source": [
    "columnas_originales = df_pib_nominal.columns"
   ]
  },
  {
   "cell_type": "code",
   "execution_count": 49,
   "id": "c496e794-ea77-44c0-9751-fbd29b9bed99",
   "metadata": {},
   "outputs": [
    {
     "name": "stdout",
     "output_type": "stream",
     "text": [
      "Index(['Country/Territory_Country/Territory', 'UN region_UN region',\n",
      "       'IMF[1][13]_Estimate', 'IMF[1][13]_Year', 'World Bank[14]_Estimate',\n",
      "       'World Bank[14]_Year', 'United Nations[15]_Estimate',\n",
      "       'United Nations[15]_Year'],\n",
      "      dtype='object')\n"
     ]
    }
   ],
   "source": [
    "print(columnas_originales)"
   ]
  },
  {
   "cell_type": "code",
   "execution_count": 50,
   "id": "2282366a-d634-47a0-9cbb-12a00b61445a",
   "metadata": {},
   "outputs": [
    {
     "name": "stdout",
     "output_type": "stream",
     "text": [
      "RangeIndex(start=0, stop=8, step=1)\n"
     ]
    }
   ],
   "source": [
    "# Reemplazar los encabezados de las columnas por números de columna\n",
    "df_pib_nominal.columns = range(df_pib_nominal.shape[1])\n",
    "print(df_pib_nominal.columns)"
   ]
  },
  {
   "cell_type": "code",
   "execution_count": 51,
   "id": "ee9dbc11-0031-44f4-9c4b-4600b3cebd62",
   "metadata": {},
   "outputs": [],
   "source": [
    "# Conservar las columnas con índice 0 y 2 (nombre del país y valor del PIB según el FMI)\n",
    "df_columnas_seleccionadas = df_pib_nominal.iloc[:,[0,2]]"
   ]
  },
  {
   "cell_type": "code",
   "execution_count": 52,
   "id": "cba06069-ec29-4b11-ae24-ffd69a000ef2",
   "metadata": {},
   "outputs": [
    {
     "data": {
      "text/html": [
       "<div>\n",
       "<style scoped>\n",
       "    .dataframe tbody tr th:only-of-type {\n",
       "        vertical-align: middle;\n",
       "    }\n",
       "\n",
       "    .dataframe tbody tr th {\n",
       "        vertical-align: top;\n",
       "    }\n",
       "\n",
       "    .dataframe thead th {\n",
       "        text-align: right;\n",
       "    }\n",
       "</style>\n",
       "<table border=\"1\" class=\"dataframe\">\n",
       "  <thead>\n",
       "    <tr style=\"text-align: right;\">\n",
       "      <th></th>\n",
       "      <th>0</th>\n",
       "      <th>2</th>\n",
       "    </tr>\n",
       "  </thead>\n",
       "  <tbody>\n",
       "    <tr>\n",
       "      <th>0</th>\n",
       "      <td>World</td>\n",
       "      <td>105568776</td>\n",
       "    </tr>\n",
       "    <tr>\n",
       "      <th>1</th>\n",
       "      <td>United States</td>\n",
       "      <td>26854599</td>\n",
       "    </tr>\n",
       "    <tr>\n",
       "      <th>2</th>\n",
       "      <td>China</td>\n",
       "      <td>19373586</td>\n",
       "    </tr>\n",
       "    <tr>\n",
       "      <th>3</th>\n",
       "      <td>Japan</td>\n",
       "      <td>4409738</td>\n",
       "    </tr>\n",
       "    <tr>\n",
       "      <th>4</th>\n",
       "      <td>Germany</td>\n",
       "      <td>4308854</td>\n",
       "    </tr>\n",
       "    <tr>\n",
       "      <th>...</th>\n",
       "      <td>...</td>\n",
       "      <td>...</td>\n",
       "    </tr>\n",
       "    <tr>\n",
       "      <th>209</th>\n",
       "      <td>Anguilla</td>\n",
       "      <td>—</td>\n",
       "    </tr>\n",
       "    <tr>\n",
       "      <th>210</th>\n",
       "      <td>Kiribati</td>\n",
       "      <td>248</td>\n",
       "    </tr>\n",
       "    <tr>\n",
       "      <th>211</th>\n",
       "      <td>Nauru</td>\n",
       "      <td>151</td>\n",
       "    </tr>\n",
       "    <tr>\n",
       "      <th>212</th>\n",
       "      <td>Montserrat</td>\n",
       "      <td>—</td>\n",
       "    </tr>\n",
       "    <tr>\n",
       "      <th>213</th>\n",
       "      <td>Tuvalu</td>\n",
       "      <td>65</td>\n",
       "    </tr>\n",
       "  </tbody>\n",
       "</table>\n",
       "<p>214 rows × 2 columns</p>\n",
       "</div>"
      ],
      "text/plain": [
       "                 0          2\n",
       "0            World  105568776\n",
       "1    United States   26854599\n",
       "2            China   19373586\n",
       "3            Japan    4409738\n",
       "4          Germany    4308854\n",
       "..             ...        ...\n",
       "209       Anguilla          —\n",
       "210       Kiribati        248\n",
       "211          Nauru        151\n",
       "212     Montserrat          —\n",
       "213         Tuvalu         65\n",
       "\n",
       "[214 rows x 2 columns]"
      ]
     },
     "execution_count": 52,
     "metadata": {},
     "output_type": "execute_result"
    }
   ],
   "source": [
    "df_columnas_seleccionadas"
   ]
  },
  {
   "cell_type": "code",
   "execution_count": 53,
   "id": "6437dcb7-8e2b-48bd-a5a8-2500169b9826",
   "metadata": {},
   "outputs": [
    {
     "data": {
      "text/html": [
       "<div>\n",
       "<style scoped>\n",
       "    .dataframe tbody tr th:only-of-type {\n",
       "        vertical-align: middle;\n",
       "    }\n",
       "\n",
       "    .dataframe tbody tr th {\n",
       "        vertical-align: top;\n",
       "    }\n",
       "\n",
       "    .dataframe thead th {\n",
       "        text-align: right;\n",
       "    }\n",
       "</style>\n",
       "<table border=\"1\" class=\"dataframe\">\n",
       "  <thead>\n",
       "    <tr style=\"text-align: right;\">\n",
       "      <th></th>\n",
       "      <th>0</th>\n",
       "      <th>2</th>\n",
       "    </tr>\n",
       "  </thead>\n",
       "  <tbody>\n",
       "    <tr>\n",
       "      <th>1</th>\n",
       "      <td>United States</td>\n",
       "      <td>26854599</td>\n",
       "    </tr>\n",
       "    <tr>\n",
       "      <th>2</th>\n",
       "      <td>China</td>\n",
       "      <td>19373586</td>\n",
       "    </tr>\n",
       "    <tr>\n",
       "      <th>3</th>\n",
       "      <td>Japan</td>\n",
       "      <td>4409738</td>\n",
       "    </tr>\n",
       "    <tr>\n",
       "      <th>4</th>\n",
       "      <td>Germany</td>\n",
       "      <td>4308854</td>\n",
       "    </tr>\n",
       "    <tr>\n",
       "      <th>5</th>\n",
       "      <td>India</td>\n",
       "      <td>3736882</td>\n",
       "    </tr>\n",
       "    <tr>\n",
       "      <th>6</th>\n",
       "      <td>United Kingdom</td>\n",
       "      <td>3158938</td>\n",
       "    </tr>\n",
       "    <tr>\n",
       "      <th>7</th>\n",
       "      <td>France</td>\n",
       "      <td>2923489</td>\n",
       "    </tr>\n",
       "    <tr>\n",
       "      <th>8</th>\n",
       "      <td>Italy</td>\n",
       "      <td>2169745</td>\n",
       "    </tr>\n",
       "    <tr>\n",
       "      <th>9</th>\n",
       "      <td>Canada</td>\n",
       "      <td>2089672</td>\n",
       "    </tr>\n",
       "    <tr>\n",
       "      <th>10</th>\n",
       "      <td>Brazil</td>\n",
       "      <td>2081235</td>\n",
       "    </tr>\n",
       "  </tbody>\n",
       "</table>\n",
       "</div>"
      ],
      "text/plain": [
       "                 0         2\n",
       "1    United States  26854599\n",
       "2            China  19373586\n",
       "3            Japan   4409738\n",
       "4          Germany   4308854\n",
       "5            India   3736882\n",
       "6   United Kingdom   3158938\n",
       "7           France   2923489\n",
       "8            Italy   2169745\n",
       "9           Canada   2089672\n",
       "10          Brazil   2081235"
      ]
     },
     "execution_count": 53,
     "metadata": {},
     "output_type": "execute_result"
    }
   ],
   "source": [
    "# Conservar las filas con índice del 1 al 10, que indican las 10 principales economías del mundo.\n",
    "\n",
    "df_top10 = df_columnas_seleccionadas.iloc[1:11,:]\n",
    "df_top10"
   ]
  },
  {
   "cell_type": "code",
   "execution_count": 70,
   "id": "dea3ba6f-fb5b-4997-bd33-880919a60bcb",
   "metadata": {},
   "outputs": [
    {
     "data": {
      "text/html": [
       "<div>\n",
       "<style scoped>\n",
       "    .dataframe tbody tr th:only-of-type {\n",
       "        vertical-align: middle;\n",
       "    }\n",
       "\n",
       "    .dataframe tbody tr th {\n",
       "        vertical-align: top;\n",
       "    }\n",
       "\n",
       "    .dataframe thead th {\n",
       "        text-align: right;\n",
       "    }\n",
       "</style>\n",
       "<table border=\"1\" class=\"dataframe\">\n",
       "  <thead>\n",
       "    <tr style=\"text-align: right;\">\n",
       "      <th></th>\n",
       "      <th>País</th>\n",
       "      <th>PIB (Millones USD)</th>\n",
       "    </tr>\n",
       "  </thead>\n",
       "  <tbody>\n",
       "    <tr>\n",
       "      <th>1</th>\n",
       "      <td>United States</td>\n",
       "      <td>26854.60</td>\n",
       "    </tr>\n",
       "    <tr>\n",
       "      <th>2</th>\n",
       "      <td>China</td>\n",
       "      <td>19373.59</td>\n",
       "    </tr>\n",
       "    <tr>\n",
       "      <th>3</th>\n",
       "      <td>Japan</td>\n",
       "      <td>4409.74</td>\n",
       "    </tr>\n",
       "    <tr>\n",
       "      <th>4</th>\n",
       "      <td>Germany</td>\n",
       "      <td>4308.85</td>\n",
       "    </tr>\n",
       "    <tr>\n",
       "      <th>5</th>\n",
       "      <td>India</td>\n",
       "      <td>3736.88</td>\n",
       "    </tr>\n",
       "    <tr>\n",
       "      <th>6</th>\n",
       "      <td>United Kingdom</td>\n",
       "      <td>3158.94</td>\n",
       "    </tr>\n",
       "    <tr>\n",
       "      <th>7</th>\n",
       "      <td>France</td>\n",
       "      <td>2923.49</td>\n",
       "    </tr>\n",
       "    <tr>\n",
       "      <th>8</th>\n",
       "      <td>Italy</td>\n",
       "      <td>2169.74</td>\n",
       "    </tr>\n",
       "    <tr>\n",
       "      <th>9</th>\n",
       "      <td>Canada</td>\n",
       "      <td>2089.67</td>\n",
       "    </tr>\n",
       "    <tr>\n",
       "      <th>10</th>\n",
       "      <td>Brazil</td>\n",
       "      <td>2081.24</td>\n",
       "    </tr>\n",
       "  </tbody>\n",
       "</table>\n",
       "</div>"
      ],
      "text/plain": [
       "              País  PIB (Millones USD)\n",
       "1    United States            26854.60\n",
       "2            China            19373.59\n",
       "3            Japan             4409.74\n",
       "4          Germany             4308.85\n",
       "5            India             3736.88\n",
       "6   United Kingdom             3158.94\n",
       "7           France             2923.49\n",
       "8            Italy             2169.74\n",
       "9           Canada             2089.67\n",
       "10          Brazil             2081.24"
      ]
     },
     "execution_count": 70,
     "metadata": {},
     "output_type": "execute_result"
    }
   ],
   "source": [
    "# Asignar nombres a las columnas como \"País\" y \"PIB (Millones USD)\"\n",
    "\n",
    "df_top10.columns = [\"País\", \"PIB (Millones USD)\"]\n",
    "df_top10"
   ]
  },
  {
   "cell_type": "markdown",
   "id": "04b85638-89f2-46ed-8bf7-bcc3a30d18d3",
   "metadata": {},
   "source": [
    "# Ejercicio 2\n",
    "Modificá la columna del PIB del DataFrame, convirtiendo el valor disponible en Millones de USD a Billones de USD. Usá el método round() de la biblioteca Numpy para redondear el valor a 2 decimales. Modificá el encabezado del DataFrame a PIB (Billones USD)."
   ]
  },
  {
   "cell_type": "code",
   "execution_count": 71,
   "id": "b3c0ce93-fdc5-46c6-95c1-3f39666dae2f",
   "metadata": {},
   "outputs": [
    {
     "name": "stdout",
     "output_type": "stream",
     "text": [
      "<class 'pandas.core.frame.DataFrame'>\n",
      "RangeIndex: 10 entries, 1 to 10\n",
      "Data columns (total 2 columns):\n",
      " #   Column              Non-Null Count  Dtype  \n",
      "---  ------              --------------  -----  \n",
      " 0   País                10 non-null     object \n",
      " 1   PIB (Millones USD)  10 non-null     float64\n",
      "dtypes: float64(1), object(1)\n",
      "memory usage: 292.0+ bytes\n"
     ]
    }
   ],
   "source": [
    "df_top10.info()\n"
   ]
  },
  {
   "cell_type": "code",
   "execution_count": 72,
   "id": "721ca453-1308-49ab-84fe-2e922a0363f0",
   "metadata": {},
   "outputs": [
    {
     "name": "stdout",
     "output_type": "stream",
     "text": [
      "<class 'pandas.core.frame.DataFrame'>\n",
      "RangeIndex: 10 entries, 1 to 10\n",
      "Data columns (total 2 columns):\n",
      " #   Column              Non-Null Count  Dtype  \n",
      "---  ------              --------------  -----  \n",
      " 0   País                10 non-null     object \n",
      " 1   PIB (Millones USD)  10 non-null     float64\n",
      "dtypes: float64(1), object(1)\n",
      "memory usage: 292.0+ bytes\n",
      "None\n"
     ]
    }
   ],
   "source": [
    "# Cambiar el tipo de dato de la columna 'PIB (Millones USD)' a entero. Usar el método astype().\n",
    "\n",
    "df_top10.loc[:,'PIB (Millones USD)'] = df_top10['PIB (Millones USD)'].astype(int)\n",
    "print(df_top10.info())"
   ]
  },
  {
   "cell_type": "code",
   "execution_count": 73,
   "id": "fbfe33d6-dd7d-4349-b930-ab7c021de09a",
   "metadata": {},
   "outputs": [
    {
     "data": {
      "text/plain": [
       "dtype('float64')"
      ]
     },
     "execution_count": 73,
     "metadata": {},
     "output_type": "execute_result"
    }
   ],
   "source": [
    "df_top10['PIB (Millones USD)'].dtype # para ser espeífico "
   ]
  },
  {
   "cell_type": "code",
   "execution_count": 75,
   "id": "ee62342e-8d62-4ede-a16f-fd9c43591263",
   "metadata": {},
   "outputs": [
    {
     "data": {
      "text/html": [
       "<div>\n",
       "<style scoped>\n",
       "    .dataframe tbody tr th:only-of-type {\n",
       "        vertical-align: middle;\n",
       "    }\n",
       "\n",
       "    .dataframe tbody tr th {\n",
       "        vertical-align: top;\n",
       "    }\n",
       "\n",
       "    .dataframe thead th {\n",
       "        text-align: right;\n",
       "    }\n",
       "</style>\n",
       "<table border=\"1\" class=\"dataframe\">\n",
       "  <thead>\n",
       "    <tr style=\"text-align: right;\">\n",
       "      <th></th>\n",
       "      <th>País</th>\n",
       "      <th>PIB (Millones USD)</th>\n",
       "      <th>PIB (Billones USD)</th>\n",
       "    </tr>\n",
       "  </thead>\n",
       "  <tbody>\n",
       "    <tr>\n",
       "      <th>1</th>\n",
       "      <td>United States</td>\n",
       "      <td>26854.0</td>\n",
       "      <td>26.854</td>\n",
       "    </tr>\n",
       "    <tr>\n",
       "      <th>2</th>\n",
       "      <td>China</td>\n",
       "      <td>19373.0</td>\n",
       "      <td>19.373</td>\n",
       "    </tr>\n",
       "    <tr>\n",
       "      <th>3</th>\n",
       "      <td>Japan</td>\n",
       "      <td>4409.0</td>\n",
       "      <td>4.409</td>\n",
       "    </tr>\n",
       "    <tr>\n",
       "      <th>4</th>\n",
       "      <td>Germany</td>\n",
       "      <td>4308.0</td>\n",
       "      <td>4.308</td>\n",
       "    </tr>\n",
       "    <tr>\n",
       "      <th>5</th>\n",
       "      <td>India</td>\n",
       "      <td>3736.0</td>\n",
       "      <td>3.736</td>\n",
       "    </tr>\n",
       "    <tr>\n",
       "      <th>6</th>\n",
       "      <td>United Kingdom</td>\n",
       "      <td>3158.0</td>\n",
       "      <td>3.158</td>\n",
       "    </tr>\n",
       "    <tr>\n",
       "      <th>7</th>\n",
       "      <td>France</td>\n",
       "      <td>2923.0</td>\n",
       "      <td>2.923</td>\n",
       "    </tr>\n",
       "    <tr>\n",
       "      <th>8</th>\n",
       "      <td>Italy</td>\n",
       "      <td>2169.0</td>\n",
       "      <td>2.169</td>\n",
       "    </tr>\n",
       "    <tr>\n",
       "      <th>9</th>\n",
       "      <td>Canada</td>\n",
       "      <td>2089.0</td>\n",
       "      <td>2.089</td>\n",
       "    </tr>\n",
       "    <tr>\n",
       "      <th>10</th>\n",
       "      <td>Brazil</td>\n",
       "      <td>2081.0</td>\n",
       "      <td>2.081</td>\n",
       "    </tr>\n",
       "  </tbody>\n",
       "</table>\n",
       "</div>"
      ],
      "text/plain": [
       "              País  PIB (Millones USD)  PIB (Billones USD)\n",
       "1    United States             26854.0              26.854\n",
       "2            China             19373.0              19.373\n",
       "3            Japan              4409.0               4.409\n",
       "4          Germany              4308.0               4.308\n",
       "5            India              3736.0               3.736\n",
       "6   United Kingdom              3158.0               3.158\n",
       "7           France              2923.0               2.923\n",
       "8            Italy              2169.0               2.169\n",
       "9           Canada              2089.0               2.089\n",
       "10          Brazil              2081.0               2.081"
      ]
     },
     "execution_count": 75,
     "metadata": {},
     "output_type": "execute_result"
    }
   ],
   "source": [
    "# Convertir el valor del PIB de Millones USD a Billones USD (en escala corta)\n",
    "\n",
    "df_top10 = df_top10.copy() # Creamos copia independiente\n",
    "df_top10.loc[:,'PIB (Billones USD)'] = df_top10['PIB (Millones USD)'] / 1000 # Modificamos sin warning\n",
    "df_top10"
   ]
  },
  {
   "cell_type": "code",
   "execution_count": 76,
   "id": "f527d563-3f25-441e-8681-7c4d0ffe3be8",
   "metadata": {},
   "outputs": [
    {
     "data": {
      "text/html": [
       "<div>\n",
       "<style scoped>\n",
       "    .dataframe tbody tr th:only-of-type {\n",
       "        vertical-align: middle;\n",
       "    }\n",
       "\n",
       "    .dataframe tbody tr th {\n",
       "        vertical-align: top;\n",
       "    }\n",
       "\n",
       "    .dataframe thead th {\n",
       "        text-align: right;\n",
       "    }\n",
       "</style>\n",
       "<table border=\"1\" class=\"dataframe\">\n",
       "  <thead>\n",
       "    <tr style=\"text-align: right;\">\n",
       "      <th></th>\n",
       "      <th>País</th>\n",
       "      <th>PIB (Millones USD)</th>\n",
       "      <th>PIB (Billones USD)</th>\n",
       "    </tr>\n",
       "  </thead>\n",
       "  <tbody>\n",
       "    <tr>\n",
       "      <th>1</th>\n",
       "      <td>United States</td>\n",
       "      <td>26854.0</td>\n",
       "      <td>26.85</td>\n",
       "    </tr>\n",
       "    <tr>\n",
       "      <th>2</th>\n",
       "      <td>China</td>\n",
       "      <td>19373.0</td>\n",
       "      <td>19.37</td>\n",
       "    </tr>\n",
       "    <tr>\n",
       "      <th>3</th>\n",
       "      <td>Japan</td>\n",
       "      <td>4409.0</td>\n",
       "      <td>4.41</td>\n",
       "    </tr>\n",
       "    <tr>\n",
       "      <th>4</th>\n",
       "      <td>Germany</td>\n",
       "      <td>4308.0</td>\n",
       "      <td>4.31</td>\n",
       "    </tr>\n",
       "    <tr>\n",
       "      <th>5</th>\n",
       "      <td>India</td>\n",
       "      <td>3736.0</td>\n",
       "      <td>3.74</td>\n",
       "    </tr>\n",
       "    <tr>\n",
       "      <th>6</th>\n",
       "      <td>United Kingdom</td>\n",
       "      <td>3158.0</td>\n",
       "      <td>3.16</td>\n",
       "    </tr>\n",
       "    <tr>\n",
       "      <th>7</th>\n",
       "      <td>France</td>\n",
       "      <td>2923.0</td>\n",
       "      <td>2.92</td>\n",
       "    </tr>\n",
       "    <tr>\n",
       "      <th>8</th>\n",
       "      <td>Italy</td>\n",
       "      <td>2169.0</td>\n",
       "      <td>2.17</td>\n",
       "    </tr>\n",
       "    <tr>\n",
       "      <th>9</th>\n",
       "      <td>Canada</td>\n",
       "      <td>2089.0</td>\n",
       "      <td>2.09</td>\n",
       "    </tr>\n",
       "    <tr>\n",
       "      <th>10</th>\n",
       "      <td>Brazil</td>\n",
       "      <td>2081.0</td>\n",
       "      <td>2.08</td>\n",
       "    </tr>\n",
       "  </tbody>\n",
       "</table>\n",
       "</div>"
      ],
      "text/plain": [
       "              País  PIB (Millones USD)  PIB (Billones USD)\n",
       "1    United States             26854.0               26.85\n",
       "2            China             19373.0               19.37\n",
       "3            Japan              4409.0                4.41\n",
       "4          Germany              4308.0                4.31\n",
       "5            India              3736.0                3.74\n",
       "6   United Kingdom              3158.0                3.16\n",
       "7           France              2923.0                2.92\n",
       "8            Italy              2169.0                2.17\n",
       "9           Canada              2089.0                2.09\n",
       "10          Brazil              2081.0                2.08"
      ]
     },
     "execution_count": 76,
     "metadata": {},
     "output_type": "execute_result"
    }
   ],
   "source": [
    "# Usar el método numpy.round() para redondear el valor a 2 decimales.\n",
    "df_top10.loc[:,'PIB (Billones USD)'] = df_top10['PIB (Billones USD)'].round(2)\n",
    "df_top10"
   ]
  },
  {
   "cell_type": "code",
   "execution_count": 78,
   "id": "e273aff8-40fd-4609-8ee3-736dc4da0249",
   "metadata": {},
   "outputs": [],
   "source": [
    "# Eliminar la columna de millones\n",
    "\n",
    "df_top10 = df_top10.drop(columns=[\"PIB (Millones USD)\"])"
   ]
  },
  {
   "cell_type": "markdown",
   "id": "9125dd45-b62b-4952-bf2e-fd530d8131d9",
   "metadata": {},
   "source": [
    "# Ejercicio 3\n",
    "Guardar el DataFrame en un archivo CSV llamado \"principales_economias.csv\".\n"
   ]
  },
  {
   "cell_type": "code",
   "execution_count": 79,
   "id": "783c40d9-7612-40ea-be6b-8542554becc9",
   "metadata": {},
   "outputs": [
    {
     "name": "stdout",
     "output_type": "stream",
     "text": [
      "C:\\PROYECTOS\\GitHub\n"
     ]
    }
   ],
   "source": [
    "df_top10.to_csv(\"principales_economias.csv\", index=False, encoding=\"utf-8-sig\")\n",
    "print(ruta)"
   ]
  },
  {
   "cell_type": "code",
   "execution_count": null,
   "id": "f43b3ba9-c5de-45ff-8e9e-09dceb214bc7",
   "metadata": {},
   "outputs": [],
   "source": []
  }
 ],
 "metadata": {
  "kernelspec": {
   "display_name": "Python 3 (ipykernel)",
   "language": "python",
   "name": "python3"
  },
  "language_info": {
   "codemirror_mode": {
    "name": "ipython",
    "version": 3
   },
   "file_extension": ".py",
   "mimetype": "text/x-python",
   "name": "python",
   "nbconvert_exporter": "python",
   "pygments_lexer": "ipython3",
   "version": "3.12.3"
  }
 },
 "nbformat": 4,
 "nbformat_minor": 5
}
