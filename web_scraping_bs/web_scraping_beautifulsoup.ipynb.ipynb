{
 "cells": [
  {
   "cell_type": "markdown",
   "id": "6fa7aec5-eb16-4c3f-b5cd-e1d8f2f8bead",
   "metadata": {},
   "source": [
    "# Web Scraping con Python - Proyecto de práctica\n",
    "\n",
    "Este proyecto forma parte del módulo final del curso ¨Python for Data Science, AI & Development\" de IBM\n",
    "\n",
    "---\n",
    "## Objetivos\n",
    "\n",
    "- Familiarizarme con el uso de `BeatifulSoup`\n",
    "- Extracción y filtrado de datos de páginas web\n",
    "- Comprender la estructura del DOM y cómo navegarla con Python\n",
    "\n",
    "---\n",
    "## Contenido \n",
    "\n",
    "- Objeto 'BeatifulSoup y su estructura\n",
    "- Exploración de etiquetas HTML, relaciones entre elementos (padres, hijos, hermanos)\n",
    "- Uso de atributos HTML y texto navegable\n",
    "- Métodos `find()` y `find_all()` para buscar información\n",
    "- Descarga y análisis de contenido web\n",
    "\n",
    "---\n",
    "## Requisitos\n",
    "\n",
    "Se utilizacon bibliotecas de Python como `requests` y `bs4`.\n",
    "Algunas ya están disponibles en entornos como SN Labs, y otras pueden requerir instalación previa. \n",
    "\n",
    "---\n",
    "\n",
    "Desarrollado por **Germán M. Zepeda**\n",
    "\n"
   ]
  },
  {
   "cell_type": "code",
   "execution_count": 1,
   "id": "c29dee24-a9a6-48ff-bc26-00af6c1b233b",
   "metadata": {},
   "outputs": [],
   "source": [
    "import os"
   ]
  },
  {
   "cell_type": "code",
   "execution_count": 2,
   "id": "2eef47f2-e82d-42e4-a97d-846c60a388e8",
   "metadata": {},
   "outputs": [
    {
     "name": "stdout",
     "output_type": "stream",
     "text": [
      "El directorio de trabajo es: C:\\PROYECTOS\\GitHub\\Web Scraping con Python\n"
     ]
    }
   ],
   "source": [
    "ruta = r'C:\\PROYECTOS\\GitHub\\Web Scraping con Python'\n",
    "os.chdir(ruta)\n",
    "print(f'El directorio de trabajo es: {os.getcwd()}')"
   ]
  },
  {
   "cell_type": "code",
   "execution_count": 3,
   "id": "554ec8d6-4d2d-451f-b192-d5376c1f2a35",
   "metadata": {},
   "outputs": [
    {
     "name": "stdout",
     "output_type": "stream",
     "text": [
      "Requirement already satisfied: bs4 in c:\\users\\germa\\anaconda3\\lib\\site-packages (0.0.2)\n",
      "Requirement already satisfied: beautifulsoup4 in c:\\users\\germa\\anaconda3\\lib\\site-packages (from bs4) (4.12.3)\n",
      "Requirement already satisfied: soupsieve>1.2 in c:\\users\\germa\\anaconda3\\lib\\site-packages (from beautifulsoup4->bs4) (2.5)\n",
      "Requirement already satisfied: requests in c:\\users\\germa\\anaconda3\\lib\\site-packages (2.32.3)\n",
      "Requirement already satisfied: pandas in c:\\users\\germa\\anaconda3\\lib\\site-packages (2.2.2)\n",
      "Requirement already satisfied: html5lib in c:\\users\\germa\\anaconda3\\lib\\site-packages (1.1)\n",
      "Requirement already satisfied: charset-normalizer<4,>=2 in c:\\users\\germa\\anaconda3\\lib\\site-packages (from requests) (2.0.4)\n",
      "Requirement already satisfied: idna<4,>=2.5 in c:\\users\\germa\\anaconda3\\lib\\site-packages (from requests) (2.10)\n",
      "Requirement already satisfied: urllib3<3,>=1.21.1 in c:\\users\\germa\\anaconda3\\lib\\site-packages (from requests) (2.2.2)\n",
      "Requirement already satisfied: certifi>=2017.4.17 in c:\\users\\germa\\anaconda3\\lib\\site-packages (from requests) (2025.1.31)\n",
      "Requirement already satisfied: numpy>=1.26.0 in c:\\users\\germa\\anaconda3\\lib\\site-packages (from pandas) (1.26.4)\n",
      "Requirement already satisfied: python-dateutil>=2.8.2 in c:\\users\\germa\\anaconda3\\lib\\site-packages (from pandas) (2.9.0.post0)\n",
      "Requirement already satisfied: pytz>=2020.1 in c:\\users\\germa\\anaconda3\\lib\\site-packages (from pandas) (2024.1)\n",
      "Requirement already satisfied: tzdata>=2022.7 in c:\\users\\germa\\anaconda3\\lib\\site-packages (from pandas) (2023.3)\n",
      "Requirement already satisfied: six>=1.9 in c:\\users\\germa\\anaconda3\\lib\\site-packages (from html5lib) (1.16.0)\n",
      "Requirement already satisfied: webencodings in c:\\users\\germa\\anaconda3\\lib\\site-packages (from html5lib) (0.5.1)\n"
     ]
    }
   ],
   "source": [
    "!pip install bs4\n",
    "!pip install requests pandas html5lib"
   ]
  },
  {
   "cell_type": "code",
   "execution_count": 4,
   "id": "bf97a28d-e8e4-4e4d-96af-578829150278",
   "metadata": {},
   "outputs": [],
   "source": [
    "from bs4 import BeautifulSoup # permite extraer datos de páginas web (web scraping)\n",
    "import requests # permite descargar una página web"
   ]
  },
  {
   "cell_type": "markdown",
   "id": "031d6a34-77d2-461e-accc-0deb359a3590",
   "metadata": {},
   "source": [
    "## Objetos de Beautiful Soup\n",
    "Beautiful Soup es una biblioteca de Python utilizada para extraer datos de archivos HTML y XML. El enfoque va a estar en archivos HTML.\n",
    "\n",
    "La extracción se logra representando el HTML como un conjunto de objetos, que incluyen métodos para analizar (parsear) el contenido. Esto permite navegar el HTML como si fuera un árbol de elementos, y también filtrar la información que estamos buscando.\n",
    "\n",
    "Consideremos el siguiente código HTML:\n",
    "Este es un pequeño fragmento de HTML que se usará para practicar la extracción de datos con BeautifulSoup. Contiene los nombres de tres jugadores de básquet y sus salarios:"
   ]
  },
  {
   "cell_type": "code",
   "execution_count": 5,
   "id": "067fcc27-d091-4b1a-997e-767da9f074e2",
   "metadata": {},
   "outputs": [
    {
     "data": {
      "text/html": [
       "<!DOCTYPE html>\n",
       "<html>\n",
       "<head>\n",
       "<title>Page Title</title>\n",
       "</head>\n",
       "<body>\n",
       "<h3><b id='boldest'>Lebron James</b></h3>\n",
       "<p> Salary: $ 92,000,000 </p>\n",
       "<h3> Stephen Curry</h3>\n",
       "<p> Salary: $85,000, 000 </p>\n",
       "<h3> Kevin Durant </h3>\n",
       "<p> Salary: $73,200, 000</p>\n",
       "</body>\n",
       "</html>\n"
      ],
      "text/plain": [
       "<IPython.core.display.HTML object>"
      ]
     },
     "metadata": {},
     "output_type": "display_data"
    }
   ],
   "source": [
    "%%html\n",
    "<!DOCTYPE html>\n",
    "<html>\n",
    "<head>\n",
    "<title>Page Title</title>\n",
    "</head>\n",
    "<body>\n",
    "<h3><b id='boldest'>Lebron James</b></h3>\n",
    "<p> Salary: $ 92,000,000 </p>\n",
    "<h3> Stephen Curry</h3>\n",
    "<p> Salary: $85,000, 000 </p>\n",
    "<h3> Kevin Durant </h3>\n",
    "<p> Salary: $73,200, 000</p>\n",
    "</body>\n",
    "</html>"
   ]
  },
  {
   "cell_type": "markdown",
   "id": "df4fe8b9-c0db-4f8e-8e1c-47ea7619a44d",
   "metadata": {},
   "source": [
    "**Podemos almacenarlo como una cadena de texto en la variable HTML:**"
   ]
  },
  {
   "cell_type": "code",
   "execution_count": 6,
   "id": "b372da09-032a-49bf-a97b-cfd0db6f439b",
   "metadata": {},
   "outputs": [],
   "source": [
    "html = \"<!DOCTYPE html><html><head><title>Page Title</title></head><body><h3><b id='boldest'>Lebron James</b></h3><p> Salary: $ 92,000,000 </p><h3> Stephen Curry</h3><p> Salary: $85,000, 000 </p><h3> Kevin Durant </h3><p> Salary: $73,200, 000</p></body></html>\""
   ]
  },
  {
   "cell_type": "code",
   "execution_count": 10,
   "id": "2854a6f0-a1ef-49ee-8b37-f8a4391c3c08",
   "metadata": {},
   "outputs": [
    {
     "data": {
      "text/plain": [
       "\"<!DOCTYPE html><html><head><title>Page Title</title></head><body><h3><b id='boldest'>Lebron James</b></h3><p> Salary: $ 92,000,000 </p><h3> Stephen Curry</h3><p> Salary: $85,000, 000 </p><h3> Kevin Durant </h3><p> Salary: $73,200, 000</p></body></html>\""
      ]
     },
     "execution_count": 10,
     "metadata": {},
     "output_type": "execute_result"
    }
   ],
   "source": [
    "html"
   ]
  },
  {
   "cell_type": "markdown",
   "id": "7649b2bd-a5b0-4ca6-b507-0fba290f2b18",
   "metadata": {},
   "source": [
    "#### Analizar (parsear) un documento con BeautifulSoup\n",
    "Para analizar un documento HTML, hay que pasarlo como argumento al constructor de BeautifulSoup.\n",
    "El objeto que se crea representa el documento como una estructura de datos anidada, similar a un árbol."
   ]
  },
  {
   "cell_type": "code",
   "execution_count": 7,
   "id": "a7631cb5-ffdd-4611-854f-544194f28d3a",
   "metadata": {},
   "outputs": [],
   "source": [
    "soup = BeautifulSoup(html, 'html5lib')"
   ]
  },
  {
   "cell_type": "markdown",
   "id": "54209f09-0393-43ce-afc3-807994b489f3",
   "metadata": {},
   "source": [
    "**Cómo procesa BeautifulSoup un documento HTML**\n",
    "\n",
    "Primero, el documento HTML se convierte a Unicode (similar a ASCII, pero más completo), y las entidades HTML (como &nbsp;, &amp;, etc.) se traducen a sus respectivos caracteres.\n",
    "\n",
    "Luego, BeautifulSoup transforma el HTML en un árbol complejo de objetos de Python, lo que permite navegarlo fácilmente.\n",
    "\n",
    "- BeautifulSoup y Tag son los dos tipos principales de objetos que vamos a usar (en esta práctica, serán como equivalentes).\n",
    "- También vamos a ver objetos NavigableString, que representan texto dentro de las etiquetas.\n",
    "\n",
    "  ---\n",
    "  Podemos usar el método `.prettify()` para mostrar el HTML con la indentación (sangrado) correcta, como si fuera un árbol visual:"
   ]
  },
  {
   "cell_type": "code",
   "execution_count": 12,
   "id": "75de2071-49e0-4a85-8dcb-37fd309a938e",
   "metadata": {},
   "outputs": [
    {
     "name": "stdout",
     "output_type": "stream",
     "text": [
      "<!DOCTYPE html>\n",
      "<html>\n",
      " <head>\n",
      "  <title>\n",
      "   Page Title\n",
      "  </title>\n",
      " </head>\n",
      " <body>\n",
      "  <h3>\n",
      "   <b id=\"boldest\">\n",
      "    Lebron James\n",
      "   </b>\n",
      "  </h3>\n",
      "  <p>\n",
      "   Salary: $ 92,000,000\n",
      "  </p>\n",
      "  <h3>\n",
      "   Stephen Curry\n",
      "  </h3>\n",
      "  <p>\n",
      "   Salary: $85,000, 000\n",
      "  </p>\n",
      "  <h3>\n",
      "   Kevin Durant\n",
      "  </h3>\n",
      "  <p>\n",
      "   Salary: $73,200, 000\n",
      "  </p>\n",
      " </body>\n",
      "</html>\n",
      "\n"
     ]
    }
   ],
   "source": [
    "print(soup.prettify())"
   ]
  },
  {
   "cell_type": "markdown",
   "id": "173ee445-f9b5-44f3-a713-0c179b972b3b",
   "metadata": {},
   "source": [
    "**Etiquetas (Tags)**\n",
    "\n",
    "Supongamos que queremos obtener el título de la página y el nombre del jugador mejor pago.\n",
    "Podemos usar un Tag.\n",
    "\n",
    "El objeto Tag representa una etiqueta HTML del documento original. Por ejemplo, la etiqueta 'tittle'"
   ]
  },
  {
   "cell_type": "markdown",
   "id": "18714a37-f7c5-49f3-a8c2-e6b12ccf64a3",
   "metadata": {},
   "source": [
    "##### Niveles de encabezado\n",
    "\n",
    "h1 -> Título principal \n",
    "\n",
    "h2 -> Subtítulo\n",
    "\n",
    "h3 -> Sub-subtítulo\n",
    "\n",
    "...\n",
    "\n",
    "h6 -> Encabezado más prequeño y menos importante"
   ]
  },
  {
   "cell_type": "code",
   "execution_count": 13,
   "id": "c8fb3d7f-fcb6-4afc-82a5-d8d277fc2f43",
   "metadata": {},
   "outputs": [
    {
     "name": "stdout",
     "output_type": "stream",
     "text": [
      "Título completo (etiqueta <title>): Page Title\n",
      "Etiqueta <h1>: None\n"
     ]
    }
   ],
   "source": [
    "# etiqueta_titulo = soup.title       # accede a la etiqueta <title>, ej: <title>Mi Sitio Web</title>\n",
    "# etiqueta_h1 = soup.h1              # accede a la primera etiqueta <h1>, ej: (si existiera) <h1>Bienvenidos a mi sitio</h1>\n",
    "# etiqueta_h3 = soup.h3              # accede a la primera etiqueta <h3>\n",
    "# etiqueta_parrafo = soup.p          # accede al primer <p> (párrafo)\n",
    "# etiqueta_negrita = soup.b          # accede al primer <b> (negrita)\n",
    "\n",
    "\n",
    "# Accedemos a la etiqueta <title>\n",
    "etiqueta_titulo = soup.title\n",
    "print(f\"Título completo (etiqueta <title>): {etiqueta_titulo.text}\")\n",
    "\n",
    "# Accedemos a la primera etiqueta <h1> (en este caso debería ser None, porque no existe en el HTML)\n",
    "etiqueta_h1 = soup.h1\n",
    "print(f\"Etiqueta <h1>: {etiqueta_h1}\")\n"
   ]
  },
  {
   "cell_type": "code",
   "execution_count": 15,
   "id": "45a040e1-7c28-4a84-a6bc-e96aa6ffc07d",
   "metadata": {},
   "outputs": [
    {
     "name": "stdout",
     "output_type": "stream",
     "text": [
      "etiqueta_titulo type: <class 'bs4.element.Tag'>\n"
     ]
    }
   ],
   "source": [
    "# Podemos ver que el tipo de etiqueta es bs4.element.Tag. Confirma que es una etiqueta HTML\n",
    "\n",
    "print(\"etiqueta_titulo type:\",type(etiqueta_titulo))"
   ]
  },
  {
   "cell_type": "markdown",
   "id": "555c1c7c-c0b1-463a-916e-4dabcd659c3f",
   "metadata": {},
   "source": [
    "## Hijos (Children), Padres (Parents) y Hermanos (Sibling) en BeautifulSoup\r\n",
    "\r\n",
    "Un objeto `Tag` en BeautifulSoup representa una estructura en forma de **árbol**.  \r\n",
    "Esto significa que cada etiqueta puede tener **hijos** (elementos dentro), **padres** (elemento que la contiene), y **hermanos** (elementos al mismo nivel).\r\n",
    "\r\n",
    "Podemos movernos hacia abajo en el árbol (acceder a un hijo), subir (acceder al padre), o desplazarnos lateralmente (ver hermanos).\r\n"
   ]
  },
  {
   "cell_type": "markdown",
   "id": "2dfacb8a-0c45-4d1b-9bf7-c8f30bb7858e",
   "metadata": {},
   "source": [
    "**Accedemos a la etiqueta `h3`**"
   ]
  },
  {
   "cell_type": "code",
   "execution_count": 27,
   "id": "98254f5d-faf5-47d0-84e8-4568a6e845c5",
   "metadata": {},
   "outputs": [
    {
     "data": {
      "text/plain": [
       "[<b id=\"boldest\">Lebron James</b>]"
      ]
     },
     "execution_count": 27,
     "metadata": {},
     "output_type": "execute_result"
    }
   ],
   "source": [
    "etiqueta_h3 = soup.h3\n",
    "etiqueta_h3.contents # muestra los hijos"
   ]
  },
  {
   "cell_type": "markdown",
   "id": "1476d247-1220-42b3-a00c-ce13556a554f",
   "metadata": {},
   "source": [
    "**Accedemos al hijo `<b>` dentro de `<h3`** \n",
    "\n",
    "- `.contents` no da su contenido"
   ]
  },
  {
   "cell_type": "code",
   "execution_count": 29,
   "id": "9d054ee8-cfc2-4c2b-9982-2b970bcbb2c8",
   "metadata": {},
   "outputs": [
    {
     "data": {
      "text/plain": [
       "['Lebron James']"
      ]
     },
     "execution_count": 29,
     "metadata": {},
     "output_type": "execute_result"
    }
   ],
   "source": [
    "etiqueta_b = etiqueta_h3.b\n",
    "etiqueta_b.contents\n"
   ]
  },
  {
   "cell_type": "code",
   "execution_count": 33,
   "id": "b461d89e-ae59-4266-bf0b-396c988800bc",
   "metadata": {},
   "outputs": [
    {
     "data": {
      "text/plain": [
       "'Lebron James'"
      ]
     },
     "execution_count": 33,
     "metadata": {},
     "output_type": "execute_result"
    }
   ],
   "source": [
    "etiqueta_b.text # nos da solo el texto interno"
   ]
  },
  {
   "cell_type": "markdown",
   "id": "3e105871-b05f-42b7-8a34-cdc234b27615",
   "metadata": {},
   "source": [
    "**Accedemos al padre usando `.parent`**"
   ]
  },
  {
   "cell_type": "code",
   "execution_count": 31,
   "id": "78d162b9-535f-472d-a747-70feea716f5d",
   "metadata": {},
   "outputs": [
    {
     "data": {
      "text/plain": [
       "<body><h3><b id=\"boldest\">Lebron James</b></h3><p> Salary: $ 92,000,000 </p><h3> Stephen Curry</h3><p> Salary: $85,000, 000 </p><h3> Kevin Durant </h3><p> Salary: $73,200, 000</p></body>"
      ]
     },
     "execution_count": 31,
     "metadata": {},
     "output_type": "execute_result"
    }
   ],
   "source": [
    "etiqueta_padre = etiqueta_h3.parent\n",
    "etiqueta_padre"
   ]
  },
  {
   "cell_type": "markdown",
   "id": "8e4167c8-5fca-4d94-9723-957d1c44267d",
   "metadata": {},
   "source": [
    "#### Usamos `.parent` para acceder al elemento padre de `etiqueta_h3`, que es `<body>`.\r\n",
    "\r\n",
    "Luego usamos `.next_sibling` para ir a los hermanos:\r\n",
    "- `hermana_1` → es el `<p>` con el salario de Lebron\r\n",
    "- `hermana_2` → es el siguiente `<h3>`, que contiene a Stephen Curry\r\n"
   ]
  },
  {
   "cell_type": "code",
   "execution_count": 34,
   "id": "743bcd33-2571-4f2e-b78b-51ce44c4a76a",
   "metadata": {},
   "outputs": [
    {
     "name": "stdout",
     "output_type": "stream",
     "text": [
      "Padre de etiqueta_h3: body\n"
     ]
    }
   ],
   "source": [
    "# Su padre es la etiqueta <body>\n",
    "print(f\"Padre de etiqueta_h3: {etiqueta_h3.parent.name}\")  # body\n"
   ]
  },
  {
   "cell_type": "code",
   "execution_count": 35,
   "id": "c3cf8058-4b16-4af0-a89c-553802249cee",
   "metadata": {},
   "outputs": [
    {
     "name": "stdout",
     "output_type": "stream",
     "text": [
      "Primer hermano (hermana_1): <p> Salary: $ 92,000,000 </p>\n"
     ]
    }
   ],
   "source": [
    "# Su primer hermano (next_sibling) es el párrafo con el salario\n",
    "etiqueta_hermana_1 = etiqueta_h3.next_sibling\n",
    "print(f\"Primer hermano (hermana_1): {etiqueta_hermana_1}\")\n"
   ]
  },
  {
   "cell_type": "code",
   "execution_count": 36,
   "id": "a64db615-0d7a-44ff-8f4b-1e81ec29e618",
   "metadata": {},
   "outputs": [
    {
     "name": "stdout",
     "output_type": "stream",
     "text": [
      "Segundo hermano (hermana_2): <h3> Stephen Curry</h3>\n"
     ]
    }
   ],
   "source": [
    "# Su segundo hermano (otro <h3>)\n",
    "etiqueta_hermana_2 = etiqueta_hermana_1.next_sibling\n",
    "print(f\"Segundo hermano (hermana_2): {etiqueta_hermana_2}\")\n"
   ]
  },
  {
   "cell_type": "markdown",
   "id": "c7b60767-e2fc-4fe5-acc2-53bd168fbcd2",
   "metadata": {},
   "source": [
    "## Ejercicio: uso de `.next_sibling` para acceder al hermano siguiente\n",
    "\n",
    "Usá el objeto etiqueta_hermana_2 y el método `.next_sibling` para encontrar el salario de Stephen Curry:"
   ]
  },
  {
   "cell_type": "code",
   "execution_count": 39,
   "id": "311671e6-0832-4fc0-acda-fc32aad8ee52",
   "metadata": {},
   "outputs": [
    {
     "name": "stdout",
     "output_type": "stream",
     "text": [
      "El salario de Stephen Curry es de: <p> Salary: $85,000, 000 </p>\n"
     ]
    }
   ],
   "source": [
    "salario_steohen_curry = etiqueta_hermana_2.next_sibling\n",
    "print(f'El salario de Stephen Curry es de: {salario_steohen_curry}')"
   ]
  },
  {
   "cell_type": "markdown",
   "id": "62d9b53d-3936-4938-aab1-b7d95c3dcc68",
   "metadata": {},
   "source": [
    "### Atributos HTML\r\n",
    "Si una etiqueta tiene atributos, como en este caso id=\"boldest\", el atributo es id y su valor es \"boldest\".\r\n",
    "Se puede acceder a los atributos de una etiqueta **tratándola como un diccionario** en Python.\r\n"
   ]
  },
  {
   "cell_type": "code",
   "execution_count": 44,
   "id": "16163e78-75a6-472f-bfd9-086806ba77bf",
   "metadata": {},
   "outputs": [],
   "source": [
    "etiqueta_hijo = etiqueta_h3.b"
   ]
  },
  {
   "cell_type": "code",
   "execution_count": 45,
   "id": "88800f7c-e2f6-4caa-a921-425d8f2c56bc",
   "metadata": {},
   "outputs": [
    {
     "data": {
      "text/plain": [
       "<b id=\"boldest\">Lebron James</b>"
      ]
     },
     "execution_count": 45,
     "metadata": {},
     "output_type": "execute_result"
    }
   ],
   "source": [
    "etiqueta_hijo"
   ]
  },
  {
   "cell_type": "code",
   "execution_count": 46,
   "id": "5709cca8-5d09-4e88-a9c1-fa563b487b0e",
   "metadata": {},
   "outputs": [
    {
     "data": {
      "text/plain": [
       "'boldest'"
      ]
     },
     "execution_count": 46,
     "metadata": {},
     "output_type": "execute_result"
    }
   ],
   "source": [
    "etiqueta_hijo['id']"
   ]
  },
  {
   "cell_type": "markdown",
   "id": "c149e4a1-fb9c-406c-8d85-da40d4071127",
   "metadata": {},
   "source": [
    "**También se puede acceder a ese diccionario directamente usando `.attrs`**"
   ]
  },
  {
   "cell_type": "code",
   "execution_count": 47,
   "id": "35581261-8da9-4fd7-ac63-6c202e2354ff",
   "metadata": {},
   "outputs": [
    {
     "data": {
      "text/plain": [
       "{'id': 'boldest'}"
      ]
     },
     "execution_count": 47,
     "metadata": {},
     "output_type": "execute_result"
    }
   ],
   "source": [
    "etiqueta_hijo.attrs"
   ]
  },
  {
   "cell_type": "markdown",
   "id": "0de333d0-b717-48d2-94c6-bf8c43a7bc48",
   "metadata": {},
   "source": [
    "**Además, se puede obtener el contenido de un atributo de una etiqueta utilizando el método `get()` de Python**"
   ]
  },
  {
   "cell_type": "code",
   "execution_count": 48,
   "id": "be4d59e7-b31b-4baa-a0fb-62e00fc514bf",
   "metadata": {},
   "outputs": [
    {
     "data": {
      "text/plain": [
       "'boldest'"
      ]
     },
     "execution_count": 48,
     "metadata": {},
     "output_type": "execute_result"
    }
   ],
   "source": [
    "etiqueta_hijo.get('id')"
   ]
  },
  {
   "cell_type": "markdown",
   "id": "ea4dc828-0883-4119-b083-c63c581955ff",
   "metadata": {},
   "source": [
    "### NavigableString\n",
    "\r\n",
    "Una cadena de texto (string) corresponde a un fragmento de texto o contenido dentro de una etiqueta.\r\n",
    "BeautifulSoup utiliza la clase NavigableString para representar ese texto.\r\n",
    "En nuestro HTML, podemos obtener el nombre del primer jugador extrayendo la cadena de texto del objeto Tag <code>etiqueta_hijo</code>, de la siguiente manera:\r\n"
   ]
  },
  {
   "cell_type": "code",
   "execution_count": 49,
   "id": "99afa720-fab7-48fc-820b-02c7498c7371",
   "metadata": {},
   "outputs": [
    {
     "name": "stdout",
     "output_type": "stream",
     "text": [
      "Lebron James\n"
     ]
    }
   ],
   "source": [
    "texto_jugador = etiqueta_hijo.string\n",
    "print(texto_jugador)\n"
   ]
  },
  {
   "cell_type": "code",
   "execution_count": 50,
   "id": "211953d3-7df6-4719-aa61-ea91645a77cd",
   "metadata": {},
   "outputs": [
    {
     "data": {
      "text/plain": [
       "bs4.element.NavigableString"
      ]
     },
     "execution_count": 50,
     "metadata": {},
     "output_type": "execute_result"
    }
   ],
   "source": [
    "type(texto_jugador)"
   ]
  },
  {
   "cell_type": "markdown",
   "id": "d4d7a8d2-0a1e-430b-89c5-095f103d3de9",
   "metadata": {},
   "source": [
    "Un **NavigableString** es similar a una cadena de texto en Python (tipo str o unicode).\n",
    "La diferencia es que también incluye algunas funcionalidades específicas de BeautifulSoup.\n",
    "Podemos convertir un NavigableString en una cadena normal de Python usando `str()`"
   ]
  },
  {
   "cell_type": "code",
   "execution_count": 56,
   "id": "d6cc0613-f6d3-493d-89a1-ead63088f8a7",
   "metadata": {},
   "outputs": [
    {
     "name": "stdout",
     "output_type": "stream",
     "text": [
      "Lebron James\n"
     ]
    }
   ],
   "source": [
    "jugador_string = str(texto_jugador)\n",
    "print(jugador_string)\n"
   ]
  },
  {
   "cell_type": "markdown",
   "id": "ea78f580-976d-48c0-8f4e-572c58e4fd04",
   "metadata": {},
   "source": [
    "## Filtros\n",
    "Los filtros permiten encontrar patrones complejos.\n",
    "El filtro más simple es una cadena de texto.\n",
    "\n",
    "En esta sección se utilizará una cadena como filtro en distintos métodos, y **BeautifulSoup** buscará coincidencias exactas con ese texto.\n",
    "\n",
    "Se utilizará el siguiente HTML de lanzamientos de cohetes como ejemplo:"
   ]
  },
  {
   "cell_type": "code",
   "execution_count": 8,
   "id": "b98716aa-cc2f-4a73-b00a-c09745197054",
   "metadata": {},
   "outputs": [
    {
     "data": {
      "text/html": [
       "<table>\n",
       "  <tr>\n",
       "    <td id='flight' >Flight No</td>\n",
       "    <td>Launch site</td> \n",
       "    <td>Payload mass</td>\n",
       "   </tr>\n",
       "  <tr> \n",
       "    <td>1</td>\n",
       "    <td><a href='https://en.wikipedia.org/wiki/Florida'>Florida</a></td>\n",
       "    <td>300 kg</td>\n",
       "  </tr>\n",
       "  <tr>\n",
       "    <td>2</td>\n",
       "    <td><a href='https://en.wikipedia.org/wiki/Texas'>Texas</a></td>\n",
       "    <td>94 kg</td>\n",
       "  </tr>\n",
       "  <tr>\n",
       "    <td>3</td>\n",
       "    <td><a href='https://en.wikipedia.org/wiki/Florida'>Florida<a> </td>\n",
       "    <td>80 kg</td>\n",
       "  </tr>\n",
       "</table>\n"
      ],
      "text/plain": [
       "<IPython.core.display.HTML object>"
      ]
     },
     "metadata": {},
     "output_type": "display_data"
    }
   ],
   "source": [
    "%%html\n",
    "<table>\n",
    "  <tr>\n",
    "    <td id='flight' >Flight No</td>\n",
    "    <td>Launch site</td> \n",
    "    <td>Payload mass</td>\n",
    "   </tr>\n",
    "  <tr> \n",
    "    <td>1</td>\n",
    "    <td><a href='https://en.wikipedia.org/wiki/Florida'>Florida</a></td>\n",
    "    <td>300 kg</td>\n",
    "  </tr>\n",
    "  <tr>\n",
    "    <td>2</td>\n",
    "    <td><a href='https://en.wikipedia.org/wiki/Texas'>Texas</a></td>\n",
    "    <td>94 kg</td>\n",
    "  </tr>\n",
    "  <tr>\n",
    "    <td>3</td>\n",
    "    <td><a href='https://en.wikipedia.org/wiki/Florida'>Florida<a> </td>\n",
    "    <td>80 kg</td>\n",
    "  </tr>\n",
    "</table>"
   ]
  },
  {
   "cell_type": "code",
   "execution_count": 9,
   "id": "4cd8562a-318a-4342-902a-8583a8df7332",
   "metadata": {},
   "outputs": [],
   "source": [
    "tabla=\"<table><tr><td id='flight'>Flight No</td><td>Launch site</td> <td>Payload mass</td></tr><tr> <td>1</td><td><a href='https://en.wikipedia.org/wiki/Florida'>Florida<a></td><td>300 kg</td></tr><tr><td>2</td><td><a href='https://en.wikipedia.org/wiki/Texas'>Texas</a></td><td>94 kg</td></tr><tr><td>3</td><td><a href='https://en.wikipedia.org/wiki/Florida'>Florida<a> </td><td>80 kg</td></tr></table>\""
   ]
  },
  {
   "cell_type": "code",
   "execution_count": 10,
   "id": "78637966-c457-49e6-acf8-2469948a05d9",
   "metadata": {},
   "outputs": [],
   "source": [
    "tabla_bs=BeautifulSoup(tabla, 'html5lib')"
   ]
  },
  {
   "cell_type": "markdown",
   "id": "e3b8225b-a526-4a91-88d1-7d3f0457ea3c",
   "metadata": {},
   "source": [
    "### find_all()\r\n",
    "El método `find_all()` recorre los descendientes de una etiqueta y recupera todos los elementos que coincidan con los filtros especificados.\r\n",
    "find_all(name, attrs, recursive, string, limit, **kwargs)\r\n",
    "### Parámetro **name**\r\n",
    "Cuando se usa el parámetro **name** con el nombre de una etiqueta (por ejemplo \"td\"), el método devuelve todas las etiquetas con ese nombre, junto con sus elementos hijos.\r\n"
   ]
  },
  {
   "cell_type": "code",
   "execution_count": 11,
   "id": "e31cefaf-ce76-41fd-aeeb-51a7a4ee93a9",
   "metadata": {},
   "outputs": [
    {
     "data": {
      "text/plain": [
       "[<tr><td id=\"flight\">Flight No</td><td>Launch site</td> <td>Payload mass</td></tr>,\n",
       " <tr> <td>1</td><td><a href=\"https://en.wikipedia.org/wiki/Florida\">Florida</a><a></a></td><td>300 kg</td></tr>,\n",
       " <tr><td>2</td><td><a href=\"https://en.wikipedia.org/wiki/Texas\">Texas</a></td><td>94 kg</td></tr>,\n",
       " <tr><td>3</td><td><a href=\"https://en.wikipedia.org/wiki/Florida\">Florida</a><a> </a></td><td>80 kg</td></tr>]"
      ]
     },
     "execution_count": 11,
     "metadata": {},
     "output_type": "execute_result"
    }
   ],
   "source": [
    "tabla_fila=tabla_bs.find_all('tr')\n",
    "tabla_fila"
   ]
  },
  {
   "cell_type": "markdown",
   "id": "4b65f3f2-72bd-4b16-ae3f-8392cd7fc5ec",
   "metadata": {},
   "source": [
    "**El resultado es un Iterable de Python, similar a una lista.\n",
    "Cada elemento es un objeto `Tag`.**"
   ]
  },
  {
   "cell_type": "code",
   "execution_count": 12,
   "id": "1171959c-cfdc-466d-b2b9-6ff71eddb3fd",
   "metadata": {},
   "outputs": [
    {
     "data": {
      "text/plain": [
       "<tr><td id=\"flight\">Flight No</td><td>Launch site</td> <td>Payload mass</td></tr>"
      ]
     },
     "execution_count": 12,
     "metadata": {},
     "output_type": "execute_result"
    }
   ],
   "source": [
    "primera_fila=tabla_fila[0]\n",
    "primera_fila"
   ]
  },
  {
   "cell_type": "code",
   "execution_count": 13,
   "id": "fe0ad50b-66ce-4680-b64b-282b91f787b1",
   "metadata": {},
   "outputs": [
    {
     "name": "stdout",
     "output_type": "stream",
     "text": [
      "<class 'bs4.element.Tag'>\n"
     ]
    }
   ],
   "source": [
    "print(type(primera_fila))"
   ]
  },
  {
   "cell_type": "markdown",
   "id": "cda7251a-0f90-4de7-bb15-9785ffa17f26",
   "metadata": {},
   "source": [
    "**Podemos obtener el hijo (child).**"
   ]
  },
  {
   "cell_type": "code",
   "execution_count": 14,
   "id": "e5c4ea0c-f7f8-4ae3-ae6b-f8225564b9be",
   "metadata": {},
   "outputs": [
    {
     "data": {
      "text/plain": [
       "<td id=\"flight\">Flight No</td>"
      ]
     },
     "execution_count": 14,
     "metadata": {},
     "output_type": "execute_result"
    }
   ],
   "source": [
    "primera_fila.td"
   ]
  },
  {
   "cell_type": "markdown",
   "id": "c127682d-8a7e-46d9-8448-cc430d4287c3",
   "metadata": {},
   "source": [
    "**Si iteramos sobre la lista, cada elemento corresponde a una fila de la tabla.**"
   ]
  },
  {
   "cell_type": "code",
   "execution_count": 15,
   "id": "15904378-cff3-4973-8d5b-3989efaed406",
   "metadata": {},
   "outputs": [
    {
     "name": "stdout",
     "output_type": "stream",
     "text": [
      "Fila 0 en <tr><td id=\"flight\">Flight No</td><td>Launch site</td> <td>Payload mass</td></tr>\n",
      "Fila 1 en <tr> <td>1</td><td><a href=\"https://en.wikipedia.org/wiki/Florida\">Florida</a><a></a></td><td>300 kg</td></tr>\n",
      "Fila 2 en <tr><td>2</td><td><a href=\"https://en.wikipedia.org/wiki/Texas\">Texas</a></td><td>94 kg</td></tr>\n",
      "Fila 3 en <tr><td>3</td><td><a href=\"https://en.wikipedia.org/wiki/Florida\">Florida</a><a> </a></td><td>80 kg</td></tr>\n"
     ]
    }
   ],
   "source": [
    "for i,fila in enumerate(tabla_fila):\n",
    "    print(\"Fila\",i,\"en\", fila)"
   ]
  },
  {
   "cell_type": "markdown",
   "id": "28a17337-41a1-485e-b5b4-3903340a3cf5",
   "metadata": {},
   "source": [
    "**Como *fila* es un objeto Tag, se le puede aplicar el `método find_all` para extraer las celdas de la tabla (etiquetas `td`).\n",
    "Esto devuelve todos los hijos con el nombre td.**\n",
    "\n",
    "**El resultado es una lista, donde cada elemento es una celda representada por un objeto `Tag`.\n",
    "También se puede iterar sobre esa lista y extraer el contenido usando el atributo .string.**"
   ]
  },
  {
   "cell_type": "code",
   "execution_count": 26,
   "id": "487c4c26-618c-4c12-9300-5e4922c56a6e",
   "metadata": {},
   "outputs": [
    {
     "name": "stdout",
     "output_type": "stream",
     "text": [
      "Fila 0\n",
      "Columna 0 Celda: Flight No\n",
      "Columna 1 Celda: Launch site\n",
      "Columna 2 Celda: Payload mass\n",
      "Fila 1\n",
      "Columna 0 Celda: 1\n",
      "Columna 1 Celda: None\n",
      "Columna 2 Celda: 300 kg\n",
      "Fila 2\n",
      "Columna 0 Celda: 2\n",
      "Columna 1 Celda: Texas\n",
      "Columna 2 Celda: 94 kg\n",
      "Fila 3\n",
      "Columna 0 Celda: 3\n",
      "Columna 1 Celda: None\n",
      "Columna 2 Celda: 80 kg\n"
     ]
    }
   ],
   "source": [
    "for i, fila in enumerate(tabla_fila):\n",
    "    print('Fila', i)\n",
    "    celdas = fila.find_all('td')\n",
    "    for j, celda in enumerate(celdas):\n",
    "        print('Columna', j, 'Celda:', celda.string)\n",
    "\n"
   ]
  },
  {
   "cell_type": "markdown",
   "id": "07a997a8-148e-4789-a0f5-adab9f2d23aa",
   "metadata": {},
   "source": [
    "**Si usamos una lista, podemos hacer coincidir contra cualquier elemento de esa lista.**"
   ]
  },
  {
   "cell_type": "code",
   "execution_count": 27,
   "id": "b22e1ef1-712b-4f11-b022-ec8d02d9977c",
   "metadata": {},
   "outputs": [
    {
     "data": {
      "text/plain": [
       "[<tr><td id=\"flight\">Flight No</td><td>Launch site</td> <td>Payload mass</td></tr>,\n",
       " <td id=\"flight\">Flight No</td>,\n",
       " <td>Launch site</td>,\n",
       " <td>Payload mass</td>,\n",
       " <tr> <td>1</td><td><a href=\"https://en.wikipedia.org/wiki/Florida\">Florida</a><a></a></td><td>300 kg</td></tr>,\n",
       " <td>1</td>,\n",
       " <td><a href=\"https://en.wikipedia.org/wiki/Florida\">Florida</a><a></a></td>,\n",
       " <td>300 kg</td>,\n",
       " <tr><td>2</td><td><a href=\"https://en.wikipedia.org/wiki/Texas\">Texas</a></td><td>94 kg</td></tr>,\n",
       " <td>2</td>,\n",
       " <td><a href=\"https://en.wikipedia.org/wiki/Texas\">Texas</a></td>,\n",
       " <td>94 kg</td>,\n",
       " <tr><td>3</td><td><a href=\"https://en.wikipedia.org/wiki/Florida\">Florida</a><a> </a></td><td>80 kg</td></tr>,\n",
       " <td>3</td>,\n",
       " <td><a href=\"https://en.wikipedia.org/wiki/Florida\">Florida</a><a> </a></td>,\n",
       " <td>80 kg</td>]"
      ]
     },
     "execution_count": 27,
     "metadata": {},
     "output_type": "execute_result"
    }
   ],
   "source": [
    "lista_salida=tabla_bs.find_all(name=['tr','td'])\n",
    "lista_salida"
   ]
  },
  {
   "cell_type": "markdown",
   "id": "54f3c756-bfff-4025-a097-e5a43f7fff49",
   "metadata": {},
   "source": [
    "## Atributos\n",
    "Si el argumento que se pasa a `find_all()` no es reconocido como un parámetro estándar, se interpreta como un filtro sobre los atributos de las etiquetas.\n",
    "\n",
    "Por ejemplo, si se pasa el argumento `id`, BeautifulSoup filtrará por el atributo `id` de cada etiqueta.\n",
    "\n",
    "En este caso, el primer elemento <td> tiene el atributo `id=\"flight\"`, por lo tanto se puede aplicar un filtro basado en ese valor."
   ]
  },
  {
   "cell_type": "code",
   "execution_count": 16,
   "id": "9eb9ab47-d31e-4165-addf-3ec9aba815e0",
   "metadata": {},
   "outputs": [
    {
     "data": {
      "text/plain": [
       "[<td id=\"flight\">Flight No</td>]"
      ]
     },
     "execution_count": 16,
     "metadata": {},
     "output_type": "execute_result"
    }
   ],
   "source": [
    "tabla_bs.find_all(id='flight')"
   ]
  },
  {
   "cell_type": "markdown",
   "id": "86838b83-46e9-4cae-97fe-2ee09adbc91c",
   "metadata": {},
   "source": [
    "**Podemos encontrar todos los elementos que contienen enlaces a la página de Wikipedia de Florida:**"
   ]
  },
  {
   "cell_type": "code",
   "execution_count": 29,
   "id": "93a10f27-954e-4555-adb8-16f1cf66df9d",
   "metadata": {},
   "outputs": [
    {
     "data": {
      "text/plain": [
       "[<a href=\"https://en.wikipedia.org/wiki/Florida\">Florida</a>,\n",
       " <a href=\"https://en.wikipedia.org/wiki/Florida\">Florida</a>]"
      ]
     },
     "execution_count": 29,
     "metadata": {},
     "output_type": "execute_result"
    }
   ],
   "source": [
    "lista_salida=tabla_bs.find_all(href='https://en.wikipedia.org/wiki/Florida')\n",
    "lista_salida"
   ]
  },
  {
   "cell_type": "markdown",
   "id": "91f91e6c-2581-4e56-bb4b-8b2918a43282",
   "metadata": {},
   "source": [
    "**Si configuramos el atributo href en True, sin importar cuál sea su valor, el código encuentra todas las etiquetas que tengan un atributo href.**"
   ]
  },
  {
   "cell_type": "code",
   "execution_count": 30,
   "id": "f4a54d1e-3aa0-4f5c-aaf1-4a82331cc36a",
   "metadata": {},
   "outputs": [
    {
     "data": {
      "text/plain": [
       "[<a href=\"https://en.wikipedia.org/wiki/Florida\">Florida</a>,\n",
       " <a href=\"https://en.wikipedia.org/wiki/Texas\">Texas</a>,\n",
       " <a href=\"https://en.wikipedia.org/wiki/Florida\">Florida</a>]"
      ]
     },
     "execution_count": 30,
     "metadata": {},
     "output_type": "execute_result"
    }
   ],
   "source": [
    "# El atributo \"href\" nos permite entontrar todos los enlaces en un documento HTML.\n",
    "\n",
    "tabla_bs.find_all(href=True)"
   ]
  },
  {
   "cell_type": "markdown",
   "id": "d44f9e5e-40d4-43e7-8c6e-82ed64891611",
   "metadata": {},
   "source": [
    "## Ejercicio: `find_all()`\n",
    "\n",
    "- Usando la lógica anterior encontrar todos los elementos que **no tengan** atributo `href`.\n",
    "- Usando el objeto `soup`, encontrar el elemento cuyo atributo `id` tenga el valor `\"boldest\"`.\n",
    "- Con el parámetro `string` buscar textos en lugar de etiquetas. Por ej.: podemos encontrar todos los elementos que contengan el texto **Florida**."
   ]
  },
  {
   "cell_type": "code",
   "execution_count": 32,
   "id": "e888ff07-c24b-4f98-911a-5ba12ed8dc5e",
   "metadata": {},
   "outputs": [
    {
     "data": {
      "text/plain": [
       "[<html><head></head><body><table><tbody><tr><td id=\"flight\">Flight No</td><td>Launch site</td> <td>Payload mass</td></tr><tr> <td>1</td><td><a href=\"https://en.wikipedia.org/wiki/Florida\">Florida</a><a></a></td><td>300 kg</td></tr><tr><td>2</td><td><a href=\"https://en.wikipedia.org/wiki/Texas\">Texas</a></td><td>94 kg</td></tr><tr><td>3</td><td><a href=\"https://en.wikipedia.org/wiki/Florida\">Florida</a><a> </a></td><td>80 kg</td></tr></tbody></table></body></html>,\n",
       " <head></head>,\n",
       " <body><table><tbody><tr><td id=\"flight\">Flight No</td><td>Launch site</td> <td>Payload mass</td></tr><tr> <td>1</td><td><a href=\"https://en.wikipedia.org/wiki/Florida\">Florida</a><a></a></td><td>300 kg</td></tr><tr><td>2</td><td><a href=\"https://en.wikipedia.org/wiki/Texas\">Texas</a></td><td>94 kg</td></tr><tr><td>3</td><td><a href=\"https://en.wikipedia.org/wiki/Florida\">Florida</a><a> </a></td><td>80 kg</td></tr></tbody></table></body>,\n",
       " <table><tbody><tr><td id=\"flight\">Flight No</td><td>Launch site</td> <td>Payload mass</td></tr><tr> <td>1</td><td><a href=\"https://en.wikipedia.org/wiki/Florida\">Florida</a><a></a></td><td>300 kg</td></tr><tr><td>2</td><td><a href=\"https://en.wikipedia.org/wiki/Texas\">Texas</a></td><td>94 kg</td></tr><tr><td>3</td><td><a href=\"https://en.wikipedia.org/wiki/Florida\">Florida</a><a> </a></td><td>80 kg</td></tr></tbody></table>,\n",
       " <tbody><tr><td id=\"flight\">Flight No</td><td>Launch site</td> <td>Payload mass</td></tr><tr> <td>1</td><td><a href=\"https://en.wikipedia.org/wiki/Florida\">Florida</a><a></a></td><td>300 kg</td></tr><tr><td>2</td><td><a href=\"https://en.wikipedia.org/wiki/Texas\">Texas</a></td><td>94 kg</td></tr><tr><td>3</td><td><a href=\"https://en.wikipedia.org/wiki/Florida\">Florida</a><a> </a></td><td>80 kg</td></tr></tbody>,\n",
       " <tr><td id=\"flight\">Flight No</td><td>Launch site</td> <td>Payload mass</td></tr>,\n",
       " <td id=\"flight\">Flight No</td>,\n",
       " <td>Launch site</td>,\n",
       " <td>Payload mass</td>,\n",
       " <tr> <td>1</td><td><a href=\"https://en.wikipedia.org/wiki/Florida\">Florida</a><a></a></td><td>300 kg</td></tr>,\n",
       " <td>1</td>,\n",
       " <td><a href=\"https://en.wikipedia.org/wiki/Florida\">Florida</a><a></a></td>,\n",
       " <a></a>,\n",
       " <td>300 kg</td>,\n",
       " <tr><td>2</td><td><a href=\"https://en.wikipedia.org/wiki/Texas\">Texas</a></td><td>94 kg</td></tr>,\n",
       " <td>2</td>,\n",
       " <td><a href=\"https://en.wikipedia.org/wiki/Texas\">Texas</a></td>,\n",
       " <td>94 kg</td>,\n",
       " <tr><td>3</td><td><a href=\"https://en.wikipedia.org/wiki/Florida\">Florida</a><a> </a></td><td>80 kg</td></tr>,\n",
       " <td>3</td>,\n",
       " <td><a href=\"https://en.wikipedia.org/wiki/Florida\">Florida</a><a> </a></td>,\n",
       " <a> </a>,\n",
       " <td>80 kg</td>]"
      ]
     },
     "execution_count": 32,
     "metadata": {},
     "output_type": "execute_result"
    }
   ],
   "source": [
    "tabla_bs.find_all(href=False)"
   ]
  },
  {
   "cell_type": "markdown",
   "id": "0ef5573d-1d9b-4f61-88c8-c16707982eaa",
   "metadata": {},
   "source": [
    "**En el primer html**:"
   ]
  },
  {
   "cell_type": "code",
   "execution_count": 40,
   "id": "3f272e8c-18fe-49a2-a330-c2c3b1185956",
   "metadata": {},
   "outputs": [
    {
     "data": {
      "text/plain": [
       "[<b id=\"boldest\">Lebron James</b>]"
      ]
     },
     "execution_count": 40,
     "metadata": {},
     "output_type": "execute_result"
    }
   ],
   "source": [
    "soup.find_all(id=\"boldest\")"
   ]
  },
  {
   "cell_type": "code",
   "execution_count": 41,
   "id": "b5ca6815-73f1-4ac0-a9b1-6c1f075e15e9",
   "metadata": {},
   "outputs": [
    {
     "data": {
      "text/plain": [
       "['Florida', 'Florida']"
      ]
     },
     "execution_count": 41,
     "metadata": {},
     "output_type": "execute_result"
    }
   ],
   "source": [
    "tabla_bs.find_all(string=\"Florida\")"
   ]
  },
  {
   "cell_type": "markdown",
   "id": "e89c5660-4232-4da7-8b61-4e19d82dbc05",
   "metadata": {},
   "source": [
    "## find() vs. find_all()\n",
    "\n",
    "El método `find_all()` recorre **todo el documento** buscando todos los resultados que coincidan. \n",
    "Pero si solo se necesita el **primer elemento**, es mejor usar el método `find()`, que devuelve la **primera coincidencia** encontrada.\n",
    "\n",
    "A continuación se presentan **dos tablas** como ejemplo:"
   ]
  },
  {
   "cell_type": "code",
   "execution_count": 17,
   "id": "37977e74-6e43-489d-bbc9-02866c403da3",
   "metadata": {},
   "outputs": [
    {
     "data": {
      "text/html": [
       "<h3>Rocket Launch </h3>\n",
       "\n",
       "<p>\n",
       "<table class='rocket'>\n",
       "  <tr>\n",
       "    <td>Flight No</td>\n",
       "    <td>Launch site</td> \n",
       "    <td>Payload mass</td>\n",
       "  </tr>\n",
       "  <tr>\n",
       "    <td>1</td>\n",
       "    <td>Florida</td>\n",
       "    <td>300 kg</td>\n",
       "  </tr>\n",
       "  <tr>\n",
       "    <td>2</td>\n",
       "    <td>Texas</td>\n",
       "    <td>94 kg</td>\n",
       "  </tr>\n",
       "  <tr>\n",
       "    <td>3</td>\n",
       "    <td>Florida </td>\n",
       "    <td>80 kg</td>\n",
       "  </tr>\n",
       "</table>\n",
       "</p>\n",
       "<p>\n",
       "\n",
       "<h3>Pizza Party  </h3>\n",
       "  \n",
       "    \n",
       "<table class='pizza'>\n",
       "  <tr>\n",
       "    <td>Pizza Place</td>\n",
       "    <td>Orders</td> \n",
       "    <td>Slices </td>\n",
       "   </tr>\n",
       "  <tr>\n",
       "    <td>Domino's Pizza</td>\n",
       "    <td>10</td>\n",
       "    <td>100</td>\n",
       "  </tr>\n",
       "  <tr>\n",
       "    <td>Little Caesars</td>\n",
       "    <td>12</td>\n",
       "    <td >144 </td>\n",
       "  </tr>\n",
       "  <tr>\n",
       "    <td>Papa John's </td>\n",
       "    <td>15 </td>\n",
       "    <td>165</td>\n",
       "  </tr>\n"
      ],
      "text/plain": [
       "<IPython.core.display.HTML object>"
      ]
     },
     "metadata": {},
     "output_type": "display_data"
    }
   ],
   "source": [
    "%%html\n",
    "<h3>Rocket Launch </h3>\n",
    "\n",
    "<p>\n",
    "<table class='rocket'>\n",
    "  <tr>\n",
    "    <td>Flight No</td>\n",
    "    <td>Launch site</td> \n",
    "    <td>Payload mass</td>\n",
    "  </tr>\n",
    "  <tr>\n",
    "    <td>1</td>\n",
    "    <td>Florida</td>\n",
    "    <td>300 kg</td>\n",
    "  </tr>\n",
    "  <tr>\n",
    "    <td>2</td>\n",
    "    <td>Texas</td>\n",
    "    <td>94 kg</td>\n",
    "  </tr>\n",
    "  <tr>\n",
    "    <td>3</td>\n",
    "    <td>Florida </td>\n",
    "    <td>80 kg</td>\n",
    "  </tr>\n",
    "</table>\n",
    "</p>\n",
    "<p>\n",
    "\n",
    "<h3>Pizza Party  </h3>\n",
    "  \n",
    "    \n",
    "<table class='pizza'>\n",
    "  <tr>\n",
    "    <td>Pizza Place</td>\n",
    "    <td>Orders</td> \n",
    "    <td>Slices </td>\n",
    "   </tr>\n",
    "  <tr>\n",
    "    <td>Domino's Pizza</td>\n",
    "    <td>10</td>\n",
    "    <td>100</td>\n",
    "  </tr>\n",
    "  <tr>\n",
    "    <td>Little Caesars</td>\n",
    "    <td>12</td>\n",
    "    <td >144 </td>\n",
    "  </tr>\n",
    "  <tr>\n",
    "    <td>Papa John's </td>\n",
    "    <td>15 </td>\n",
    "    <td>165</td>\n",
    "  </tr>"
   ]
  },
  {
   "cell_type": "code",
   "execution_count": 18,
   "id": "20b2906e-1174-4f56-89c9-8888535dac14",
   "metadata": {},
   "outputs": [],
   "source": [
    "two_tables=\"<h3>Rocket Launch </h3><p><table class='rocket'><tr><td>Flight No</td><td>Launch site</td> <td>Payload mass</td></tr><tr><td>1</td><td>Florida</td><td>300 kg</td></tr><tr><td>2</td><td>Texas</td><td>94 kg</td></tr><tr><td>3</td><td>Florida </td><td>80 kg</td></tr></table></p><p><h3>Pizza Party  </h3><table class='pizza'><tr><td>Pizza Place</td><td>Orders</td> <td>Slices </td></tr><tr><td>Domino's Pizza</td><td>10</td><td>100</td></tr><tr><td>Little Caesars</td><td>12</td><td >144 </td></tr><tr><td>Papa John's </td><td>15 </td><td>165</td></tr>\""
   ]
  },
  {
   "cell_type": "code",
   "execution_count": 19,
   "id": "889ed307-3432-47d5-920e-87c89522cdfb",
   "metadata": {},
   "outputs": [],
   "source": [
    "# Creamos el objeto BeautifulSoup\n",
    "\n",
    "two_tables_bs=BeautifulSoup(two_tables, 'html.parser') # 'html.parser' viene instalado con Python. Es más rápido y\n",
    "                                                       # menos tolerante a errores. "
   ]
  },
  {
   "cell_type": "code",
   "execution_count": 20,
   "id": "9529910b-5194-409f-9721-ee541cbaa4c4",
   "metadata": {},
   "outputs": [
    {
     "name": "stdout",
     "output_type": "stream",
     "text": [
      "<table class=\"rocket\"><tr><td>Flight No</td><td>Launch site</td> <td>Payload mass</td></tr><tr><td>1</td><td>Florida</td><td>300 kg</td></tr><tr><td>2</td><td>Texas</td><td>94 kg</td></tr><tr><td>3</td><td>Florida </td><td>80 kg</td></tr></table>\n"
     ]
    }
   ],
   "source": [
    "# Con el método 'find()' podemos acceder a la primera tabla utilizando la etiqueta 'table'.\n",
    "\n",
    "first_table=two_tables_bs.find(\"table\")\n",
    "print(first_table)"
   ]
  },
  {
   "cell_type": "code",
   "execution_count": 21,
   "id": "fa066e16-ef6a-440d-9d81-4e907fcbea33",
   "metadata": {},
   "outputs": [
    {
     "name": "stdout",
     "output_type": "stream",
     "text": [
      "<table class=\"pizza\"><tr><td>Pizza Place</td><td>Orders</td> <td>Slices </td></tr><tr><td>Domino's Pizza</td><td>10</td><td>100</td></tr><tr><td>Little Caesars</td><td>12</td><td>144 </td></tr><tr><td>Papa John's </td><td>15 </td><td>165</td></tr></table>\n"
     ]
    }
   ],
   "source": [
    "# Podemos filtrar por el atributo 'class' para encontrar la segunda tabla.\n",
    "# Pero como 'class' es una palabra reservada de Python, le agregamos un guin bajo: class_ \n",
    "\n",
    "second_table=two_tables_bs.find('table', class_='pizza')\n",
    "print(second_table)"
   ]
  },
  {
   "cell_type": "markdown",
   "id": "4910eec1-80e8-493f-bb6e-6db1a01db003",
   "metadata": {},
   "source": [
    "## Descarga y extracción del contenido de una página web"
   ]
  },
  {
   "cell_type": "code",
   "execution_count": 27,
   "id": "4bb76eb4-aecd-425f-bd26-eceecb322827",
   "metadata": {},
   "outputs": [],
   "source": [
    "# Descargamos el coontenido de la página web:\n",
    "\n",
    "url=\"https://www.ibm.com\""
   ]
  },
  {
   "cell_type": "code",
   "execution_count": 28,
   "id": "e164745c-7890-4df0-8dca-e89e0f9e60b8",
   "metadata": {},
   "outputs": [],
   "source": [
    "# Usamos requests.get() para descargar el contenido de la página web en formato de texto y lo almacenamos en una \n",
    "# variable llamada 'data'.\n",
    "\n",
    "data=requests.get(url).text"
   ]
  },
  {
   "cell_type": "code",
   "execution_count": 29,
   "id": "3c7d6d73-0311-4f68-8e09-54d21d6110c3",
   "metadata": {},
   "outputs": [],
   "source": [
    "# Creamos un objeto BeautifulSoup utilizando el constructor de BeautifulSoup\n",
    "soup = BeautifulSoup(data, 'html5lib')"
   ]
  },
  {
   "cell_type": "code",
   "execution_count": 30,
   "id": "34851edf-0c42-43ff-9cec-26844c9be4df",
   "metadata": {},
   "outputs": [
    {
     "name": "stdout",
     "output_type": "stream",
     "text": [
      "https://www.ibm.com/finops?lnk=hpls1us\n",
      "https://www.ibm.com/products/turbonomic/cloud-optimization?lnk=hpls2us\n",
      "https://www.ibm.com/granite?lnk=hpdev1us\n",
      "https://developer.ibm.com/technologies/artificial-intelligence?lnk=hpdev2us\n",
      "https://skillsbuild.org/?lnk=hpdev3us\n",
      "https://www.youtube.com/watch?v=g0CaNTs5DaI&lnk=hpdev4us\n",
      "https://www.ibm.com/new/announcements/ibm-named-a-leader-in-the-2025-gartner-magic-quadrant-for-data-science-and-machine-learning-platforms?lnk=hpdev5us\n",
      "https://www.ibm.com/new/announcements/ibm-leader-2025-omdia-universe-on-no-low-pro-ide-assistants-report?lnk=hpdev6us\n",
      "https://www.ibm.com/products/watsonx-code-assistant/pricing?lnk=hpdev7us\n",
      "https://www.ibm.com/products/watsonx-ai?lnk=hpdev8us\n",
      "https://www.ibm.com/products/offers-and-discounts?lnk=hpdo1us\n",
      "https://www.ibm.com/artificial-intelligence?lnk=hpfp1us\n",
      "https://www.ibm.com/hybrid-cloud?lnk=hpfp2us\n",
      "https://www.ibm.com/consulting?lnk=hpfp3us\n",
      "https://www.ibm.com/about?lnk=hpii1us\n",
      "https://www.ibm.com/history?lnk=hpii1us\n",
      "https://research.ibm.com?lnk=hpii1us\n",
      "https://www.ibm.com/quantum?lnk=hpii1us\n",
      "https://www.ibm.com/careers?lnk=hpii1us\n",
      "https://skillsbuild.org?lnk=hpii1us\n",
      "https://www.ft.com/partnercontent/ibm/how-smaller-industry-tailored-ai-models-can-offer-greater-benefits.html\n"
     ]
    }
   ],
   "source": [
    "# Extraemos todos los enlaces\n",
    "\n",
    "for link in soup.find_all('a',href=True): # # en HTML, un enlace se representa con la etiqueta <a>\n",
    "\n",
    "    print(link.get('href'))"
   ]
  },
  {
   "cell_type": "markdown",
   "id": "7c897b2d-db8a-4c12-a04f-5e4699a99b84",
   "metadata": {},
   "source": [
    "### En HTML, las etiquetas (tags) como `img` se usan para representar imágenes.\n",
    "Vamos a extraer todas las tags `img` del documento."
   ]
  },
  {
   "cell_type": "code",
   "execution_count": 33,
   "id": "5fb4cee1-1f92-4e4d-8357-223d8a2dc90f",
   "metadata": {},
   "outputs": [],
   "source": [
    "for link in soup.find_all('img'): # en HTML imagen se representa con la etiqueta <img>\n",
    "    print(link)\n",
    "    print(link.get('src'))"
   ]
  },
  {
   "cell_type": "code",
   "execution_count": 34,
   "id": "b75be474-0376-4eb3-a56b-ff3622abca79",
   "metadata": {},
   "outputs": [
    {
     "name": "stdout",
     "output_type": "stream",
     "text": [
      "Cantidad de imágenes encontradas: 0\n"
     ]
    }
   ],
   "source": [
    "# Para verificar si hay imágenes\n",
    "\n",
    "imagenes = soup.find_all(\"img\")\n",
    "print(f\"Cantidad de imágenes encontradas: {len(imagenes)}\")\n"
   ]
  },
  {
   "cell_type": "markdown",
   "id": "0c90d2b9-c855-4841-b7d8-9dcf0cb70096",
   "metadata": {},
   "source": [
    "## Extracción de datos desde tablas en HTML"
   ]
  },
  {
   "cell_type": "markdown",
   "id": "4c6e7883-ba5e-461c-8c88-0d4f6b484924",
   "metadata": {},
   "source": [
    "Antes de proceder a extraer datos de un sitio web, es necesario examinar su contenido y cómo está organizada la información.\n",
    "Verificar previamente cuántas filas y columnas tiene la tabla de colores."
   ]
  },
  {
   "cell_type": "code",
   "execution_count": 35,
   "id": "87f5b906-8d22-4c88-bd4e-4639505638bb",
   "metadata": {},
   "outputs": [],
   "source": [
    "# La URL de abajo contiene una tabla HTML con información sobre colores y sus códigos.\n",
    "url = \"https://cf-courses-data.s3.us.cloud-object-storage.appdomain.cloud/IBM-DA0321EN-SkillsNetwork/labs/datasets/HTMLColorCodes.html\""
   ]
  },
  {
   "cell_type": "code",
   "execution_count": 42,
   "id": "c626ce60-ccb2-4e2e-807d-88753d20d751",
   "metadata": {},
   "outputs": [],
   "source": [
    "# Obtener el contenido de la página web en formato de texto y guardarlo en una variable llamada data\n",
    "data=requests.get(url).text"
   ]
  },
  {
   "cell_type": "code",
   "execution_count": 43,
   "id": "84c107e1-2455-433e-9488-c3b2996740f6",
   "metadata": {},
   "outputs": [],
   "source": [
    "soup=BeautifulSoup(data, 'html5lib')"
   ]
  },
  {
   "cell_type": "code",
   "execution_count": 49,
   "id": "417fd455-ab35-4fe0-a544-995a20fc9ef4",
   "metadata": {},
   "outputs": [],
   "source": [
    "table=soup.find('table') # en HTML una tabla se representa con la etiqueta <table>"
   ]
  },
  {
   "cell_type": "code",
   "execution_count": 50,
   "id": "2f4bdef3-cb87-4ab0-b2c5-437226fa83d0",
   "metadata": {},
   "outputs": [
    {
     "name": "stdout",
     "output_type": "stream",
     "text": [
      "Color Name--->None\n",
      "lightsalmon--->#FFA07A\n",
      "salmon--->#FA8072\n",
      "darksalmon--->#E9967A\n",
      "lightcoral--->#F08080\n",
      "coral--->#FF7F50\n",
      "tomato--->#FF6347\n",
      "orangered--->#FF4500\n",
      "gold--->#FFD700\n",
      "orange--->#FFA500\n",
      "darkorange--->#FF8C00\n",
      "lightyellow--->#FFFFE0\n",
      "lemonchiffon--->#FFFACD\n",
      "papayawhip--->#FFEFD5\n",
      "moccasin--->#FFE4B5\n",
      "peachpuff--->#FFDAB9\n",
      "palegoldenrod--->#EEE8AA\n",
      "khaki--->#F0E68C\n",
      "darkkhaki--->#BDB76B\n",
      "yellow--->#FFFF00\n",
      "lawngreen--->#7CFC00\n",
      "chartreuse--->#7FFF00\n",
      "limegreen--->#32CD32\n",
      "lime--->#00FF00\n",
      "forestgreen--->#228B22\n",
      "green--->#008000\n",
      "powderblue--->#B0E0E6\n",
      "lightblue--->#ADD8E6\n",
      "lightskyblue--->#87CEFA\n",
      "skyblue--->#87CEEB\n",
      "deepskyblue--->#00BFFF\n",
      "lightsteelblue--->#B0C4DE\n",
      "dodgerblue--->#1E90FF\n"
     ]
    }
   ],
   "source": [
    "# Obtener todas las filas de la tabla\n",
    "for row in table.find_all('tr'): # en HTML, una fila de tabla se representa con la etiqueta <tr>\n",
    "    # Obtener todas las columnas en cada fila\n",
    "    cols = row.find_all('td') # en HTML a la columna se la representa con la etiqueta <td>\n",
    "    color_name = cols[2].string # guardar el valor de la columna 3 como color_name\n",
    "    color_code = cols[3].string # guardar el valor de la columna 4 como color_code\n",
    "    print(\"{}--->{}\".format(color_name, color_code))\n"
   ]
  },
  {
   "cell_type": "code",
   "execution_count": null,
   "id": "fbd9c087-e576-4072-b29e-810beccbfc2a",
   "metadata": {},
   "outputs": [],
   "source": []
  }
 ],
 "metadata": {
  "kernelspec": {
   "display_name": "Python 3 (ipykernel)",
   "language": "python",
   "name": "python3"
  },
  "language_info": {
   "codemirror_mode": {
    "name": "ipython",
    "version": 3
   },
   "file_extension": ".py",
   "mimetype": "text/x-python",
   "name": "python",
   "nbconvert_exporter": "python",
   "pygments_lexer": "ipython3",
   "version": "3.12.3"
  }
 },
 "nbformat": 4,
 "nbformat_minor": 5
}
